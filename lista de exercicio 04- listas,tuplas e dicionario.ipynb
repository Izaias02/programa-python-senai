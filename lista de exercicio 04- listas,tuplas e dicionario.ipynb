{
 "cells": [
  {
   "cell_type": "markdown",
   "id": "e21b2814",
   "metadata": {},
   "source": [
    "Exercício 01 - Crie uma lista com nomes de 4 times de futebol.\n",
    "\n",
    "a) Palmeiras\n",
    "b) São Paulo\n",
    "c) Santos\n",
    "d) Água Santa\n",
    "e) Acesse o time que está na 3a posição.\n",
    "f) Crie uma lista com duas listas de 3 times de futebol, cada uma de uma\n",
    "divisão diferente."
   ]
  },
  {
   "cell_type": "code",
   "execution_count": 3,
   "id": "ae2388f8",
   "metadata": {},
   "outputs": [
    {
     "data": {
      "text/plain": [
       "'crisciuma'"
      ]
     },
     "execution_count": 3,
     "metadata": {},
     "output_type": "execute_result"
    }
   ],
   "source": [
    "times = ['palmeiras', 'santos', 'são paulo', 'agua santa']\n",
    "# acessar o time da terceira posição\n",
    "\n",
    "times[2]\n",
    "\n",
    "# listas dentro de outras listas\n",
    "divisoes = [['roraima', 'parana', 'ceara'],['crisciuma', 'vasco' ,'gramio']]\n",
    "divisoes[1][0]       # para pegar o primeiro elemento da segunda lista \n"
   ]
  },
  {
   "cell_type": "markdown",
   "id": "c935cdcd",
   "metadata": {},
   "source": [
    "Exercício 02 - Crie uma lista com 3 diferentes moedas. Acrescente mais 2\n",
    "outras moedas à essa mesma lista."
   ]
  },
  {
   "cell_type": "code",
   "execution_count": 7,
   "id": "a0ee2665",
   "metadata": {},
   "outputs": [
    {
     "data": {
      "text/plain": [
       "['dolar', 'real', 'euro', 'centavos', 'dobroes']"
      ]
     },
     "execution_count": 7,
     "metadata": {},
     "output_type": "execute_result"
    }
   ],
   "source": [
    "moedas = ['dolar','real', 'euro']\n",
    "moedas.append('centavos')\n",
    "moedas.append('dobroes')\n",
    "\n",
    "moedas"
   ]
  },
  {
   "cell_type": "code",
   "execution_count": 13,
   "id": "2c61a3f2",
   "metadata": {},
   "outputs": [
    {
     "data": {
      "text/plain": [
       "list"
      ]
     },
     "execution_count": 13,
     "metadata": {},
     "output_type": "execute_result"
    }
   ],
   "source": [
    "# transformar a lista em uma strig\n",
    "\n",
    "texto =','.join(moedas)\n",
    "texto\n",
    "\n",
    "# para transformar uma string em lista\n",
    "moedas = texto.split('.')\n",
    "type(moedas)\n"
   ]
  }
 ],
 "metadata": {
  "kernelspec": {
   "display_name": "Python 3 (ipykernel)",
   "language": "python",
   "name": "python3"
  },
  "language_info": {
   "codemirror_mode": {
    "name": "ipython",
    "version": 3
   },
   "file_extension": ".py",
   "mimetype": "text/x-python",
   "name": "python",
   "nbconvert_exporter": "python",
   "pygments_lexer": "ipython3",
   "version": "3.10.9"
  }
 },
 "nbformat": 4,
 "nbformat_minor": 5
}
