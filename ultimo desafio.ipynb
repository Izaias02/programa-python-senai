{
 "cells": [
  {
   "cell_type": "code",
   "execution_count": 3,
   "metadata": {},
   "outputs": [
    {
     "name": "stdout",
     "output_type": "stream",
     "text": [
      "[['\\ufeffFirst Name', 'Last Name ', 'Company Name', 'Role in Company', 'Address', 'Email', 'Phone Number'], ['John', 'Smith', 'IT Solutions', 'Analyst', '98 North Road', 'jsmith@itsolutions.co.uk', '40716543298'], ['Jane', 'Dorsey', 'MediCare', 'Medical Engineer', '11 Crown Street', 'jdorsey@mc.com', '40791345621'], ['Albert', 'Kipling', 'Waterfront', 'Accountant', '22 Guild Street', 'kipling@waterfront.com', '40735416854'], ['Michael', 'Robertson', 'MediCare', 'IT Specialist', '17 Farburn Terrace', 'mrobertson@mc.com', '40733652145'], ['Doug', 'Derrick', 'Timepath Inc.', 'Analyst', '99 Shire Oak Road', 'dderrick@timepath.co.uk', '40799885412'], ['Jessie', 'Marlowe', 'Aperture Inc.', 'Scientist', '27 Cheshire Street', 'jmarlowe@aperture.us', '40733154268'], ['Stan', 'Hamm', 'Sugarwell', 'Advisor', '10 Dam Road', 'shamm@sugarwell.org', '40712462257'], ['Michelle', 'Norton', 'Aperture Inc.', 'Scientist', '13 White Rabbit Street', 'mnorton@aperture.us', '40731254562'], ['Stacy', 'Shelby', 'TechDev', 'HR Manager', '19 Pineapple Boulevard', 'sshelby@techdev.com', '40741785214'], ['Lara', 'Palmer', 'Timepath Inc.', 'Programmer', '87 Orange Street', 'lpalmer@timepath.co.uk', '40731653845']]\n"
     ]
    },
    {
     "ename": "KeyboardInterrupt",
     "evalue": "",
     "output_type": "error",
     "traceback": [
      "\u001b[1;31m---------------------------------------------------------------------------\u001b[0m",
      "\u001b[1;31mKeyboardInterrupt\u001b[0m                         Traceback (most recent call last)",
      "Cell \u001b[1;32mIn[3], line 54\u001b[0m\n\u001b[0;32m     50\u001b[0m pyautogui\u001b[39m.\u001b[39mtypewrite(\u001b[39m'\u001b[39m\u001b[39mhttps://forms.gle/1rfKi5BEicT6JgZz9 \u001b[39m\u001b[39m\\n\u001b[39;00m\u001b[39m'\u001b[39m)\n\u001b[0;32m     52\u001b[0m time\u001b[39m.\u001b[39msleep(\u001b[39m1\u001b[39m)\n\u001b[1;32m---> 54\u001b[0m cordenadas \u001b[39m=\u001b[39m pyautogui\u001b[39m.\u001b[39;49mlocateCenterOnScreen(\u001b[39m'\u001b[39;49m\u001b[39mimagem.png\u001b[39;49m\u001b[39m'\u001b[39;49m)\n\u001b[0;32m     56\u001b[0m time\u001b[39m.\u001b[39msleep(\u001b[39m1\u001b[39m)\n\u001b[0;32m     57\u001b[0m pyautogui\u001b[39m.\u001b[39mpress(\u001b[39m'\u001b[39m\u001b[39mtab\u001b[39m\u001b[39m'\u001b[39m)\n",
      "File \u001b[1;32mc:\\Users\\FIC\\anaconda3\\lib\\site-packages\\pyautogui\\__init__.py:172\u001b[0m, in \u001b[0;36mraisePyAutoGUIImageNotFoundException.<locals>.wrapper\u001b[1;34m(*args, **kwargs)\u001b[0m\n\u001b[0;32m    169\u001b[0m \u001b[39m@functools\u001b[39m\u001b[39m.\u001b[39mwraps(wrappedFunction)\n\u001b[0;32m    170\u001b[0m \u001b[39mdef\u001b[39;00m \u001b[39mwrapper\u001b[39m(\u001b[39m*\u001b[39margs, \u001b[39m*\u001b[39m\u001b[39m*\u001b[39mkwargs):\n\u001b[0;32m    171\u001b[0m     \u001b[39mtry\u001b[39;00m:\n\u001b[1;32m--> 172\u001b[0m         \u001b[39mreturn\u001b[39;00m wrappedFunction(\u001b[39m*\u001b[39margs, \u001b[39m*\u001b[39m\u001b[39m*\u001b[39mkwargs)\n\u001b[0;32m    173\u001b[0m     \u001b[39mexcept\u001b[39;00m pyscreeze\u001b[39m.\u001b[39mImageNotFoundException:\n\u001b[0;32m    174\u001b[0m         \u001b[39mraise\u001b[39;00m ImageNotFoundException\n",
      "File \u001b[1;32mc:\\Users\\FIC\\anaconda3\\lib\\site-packages\\pyautogui\\__init__.py:204\u001b[0m, in \u001b[0;36mlocateCenterOnScreen\u001b[1;34m(*args, **kwargs)\u001b[0m\n\u001b[0;32m    202\u001b[0m \u001b[39m@raisePyAutoGUIImageNotFoundException\u001b[39m\n\u001b[0;32m    203\u001b[0m \u001b[39mdef\u001b[39;00m \u001b[39mlocateCenterOnScreen\u001b[39m(\u001b[39m*\u001b[39margs, \u001b[39m*\u001b[39m\u001b[39m*\u001b[39mkwargs):\n\u001b[1;32m--> 204\u001b[0m     \u001b[39mreturn\u001b[39;00m pyscreeze\u001b[39m.\u001b[39mlocateCenterOnScreen(\u001b[39m*\u001b[39margs, \u001b[39m*\u001b[39m\u001b[39m*\u001b[39mkwargs)\n",
      "File \u001b[1;32mc:\\Users\\FIC\\anaconda3\\lib\\site-packages\\pyscreeze\\__init__.py:420\u001b[0m, in \u001b[0;36mlocateCenterOnScreen\u001b[1;34m(image, **kwargs)\u001b[0m\n\u001b[0;32m    416\u001b[0m \u001b[39mdef\u001b[39;00m \u001b[39mlocateCenterOnScreen\u001b[39m(image, \u001b[39m*\u001b[39m\u001b[39m*\u001b[39mkwargs):\n\u001b[0;32m    417\u001b[0m     \u001b[39m\"\"\"\u001b[39;00m\n\u001b[0;32m    418\u001b[0m \u001b[39m    TODO\u001b[39;00m\n\u001b[0;32m    419\u001b[0m \u001b[39m    \"\"\"\u001b[39;00m\n\u001b[1;32m--> 420\u001b[0m     coords \u001b[39m=\u001b[39m locateOnScreen(image, \u001b[39m*\u001b[39m\u001b[39m*\u001b[39mkwargs)\n\u001b[0;32m    421\u001b[0m     \u001b[39mif\u001b[39;00m coords \u001b[39mis\u001b[39;00m \u001b[39mNone\u001b[39;00m:\n\u001b[0;32m    422\u001b[0m         \u001b[39mreturn\u001b[39;00m \u001b[39mNone\u001b[39;00m\n",
      "File \u001b[1;32mc:\\Users\\FIC\\anaconda3\\lib\\site-packages\\pyscreeze\\__init__.py:378\u001b[0m, in \u001b[0;36mlocateOnScreen\u001b[1;34m(image, minSearchTime, **kwargs)\u001b[0m\n\u001b[0;32m    374\u001b[0m \u001b[39mtry\u001b[39;00m:\n\u001b[0;32m    375\u001b[0m     screenshotIm \u001b[39m=\u001b[39m screenshot(\n\u001b[0;32m    376\u001b[0m         region\u001b[39m=\u001b[39m\u001b[39mNone\u001b[39;00m\n\u001b[0;32m    377\u001b[0m     )  \u001b[39m# the locateAll() function must handle cropping to return accurate coordinates, so don't pass a region here.\u001b[39;00m\n\u001b[1;32m--> 378\u001b[0m     retVal \u001b[39m=\u001b[39m locate(image, screenshotIm, \u001b[39m*\u001b[39m\u001b[39m*\u001b[39mkwargs)\n\u001b[0;32m    379\u001b[0m     \u001b[39mtry\u001b[39;00m:\n\u001b[0;32m    380\u001b[0m         screenshotIm\u001b[39m.\u001b[39mfp\u001b[39m.\u001b[39mclose()\n",
      "File \u001b[1;32mc:\\Users\\FIC\\anaconda3\\lib\\site-packages\\pyscreeze\\__init__.py:356\u001b[0m, in \u001b[0;36mlocate\u001b[1;34m(needleImage, haystackImage, **kwargs)\u001b[0m\n\u001b[0;32m    354\u001b[0m \u001b[39m# Note: The gymnastics in this function is because we want to make sure to exhaust the iterator so that the needle and haystack files are closed in locateAll.\u001b[39;00m\n\u001b[0;32m    355\u001b[0m kwargs[\u001b[39m'\u001b[39m\u001b[39mlimit\u001b[39m\u001b[39m'\u001b[39m] \u001b[39m=\u001b[39m \u001b[39m1\u001b[39m\n\u001b[1;32m--> 356\u001b[0m points \u001b[39m=\u001b[39m \u001b[39mtuple\u001b[39;49m(locateAll(needleImage, haystackImage, \u001b[39m*\u001b[39;49m\u001b[39m*\u001b[39;49mkwargs))\n\u001b[0;32m    357\u001b[0m \u001b[39mif\u001b[39;00m \u001b[39mlen\u001b[39m(points) \u001b[39m>\u001b[39m \u001b[39m0\u001b[39m:\n\u001b[0;32m    358\u001b[0m     \u001b[39mreturn\u001b[39;00m points[\u001b[39m0\u001b[39m]\n",
      "File \u001b[1;32mc:\\Users\\FIC\\anaconda3\\lib\\site-packages\\pyscreeze\\__init__.py:320\u001b[0m, in \u001b[0;36m_locateAll_pillow\u001b[1;34m(needleImage, haystackImage, grayscale, limit, region, step, confidence)\u001b[0m\n\u001b[0;32m    317\u001b[0m \u001b[39mfor\u001b[39;00m searchy \u001b[39min\u001b[39;00m \u001b[39mrange\u001b[39m(\u001b[39m1\u001b[39m, needleHeight, step):\n\u001b[0;32m    318\u001b[0m     haystackStart \u001b[39m=\u001b[39m (searchy \u001b[39m+\u001b[39m y) \u001b[39m*\u001b[39m haystackWidth \u001b[39m+\u001b[39m matchx\n\u001b[0;32m    319\u001b[0m     \u001b[39mif\u001b[39;00m (\n\u001b[1;32m--> 320\u001b[0m         needleImageData[searchy \u001b[39m*\u001b[39m needleWidth : (searchy \u001b[39m+\u001b[39m \u001b[39m1\u001b[39m) \u001b[39m*\u001b[39m needleWidth]\n\u001b[0;32m    321\u001b[0m         \u001b[39m!=\u001b[39m haystackImageData[haystackStart : haystackStart \u001b[39m+\u001b[39m needleWidth]\n\u001b[0;32m    322\u001b[0m     ):\n\u001b[0;32m    323\u001b[0m         foundMatch \u001b[39m=\u001b[39m \u001b[39mFalse\u001b[39;00m\n\u001b[0;32m    324\u001b[0m         \u001b[39mbreak\u001b[39;00m\n",
      "\u001b[1;31mKeyboardInterrupt\u001b[0m: "
     ]
    }
   ],
   "source": [
    "\n",
    "# acessar os dados -------------------------------------------------\n",
    "def open_file(filename):\n",
    "    encoding = input('informe o encoding(ASCII, UTF-16, UTF-8, ANSI)')\n",
    "    try:\n",
    "        with open(filename,'r',encoding=encoding) as file:\n",
    "            contents = file.read()\n",
    "            return contents\n",
    "    except UnicodeDecodeError:\n",
    "        print('ERRO: Encoding especificado diferente do padrão do documento.')\n",
    "\n",
    "#****************************************************************************** \n",
    "\n",
    "caminho = 'C:\\\\Users\\\\FIC\\\\Documents\\\\izaias python\\\\'\n",
    "arquivo = 'cadastro.txt'\n",
    "dados = open_file(caminho + arquivo)\n",
    "\n",
    "\n",
    "# converter em listas os dados ------------\n",
    "dados_file = dados.splitlines()\n",
    "\n",
    "for i in range(0, len(dados_file)):\n",
    "    dados_file[i] = dados_file[i].split(';')\n",
    "\n",
    "\n",
    "# fatiamento da lista\n",
    "# percorrer as listas e identificar a primeira com valor vazio\n",
    "\n",
    "pos = -1\n",
    "for i in range(0, len(dados_file)):\n",
    "   if dados_file[i][0] == '':\n",
    "    pos = i\n",
    "    break\n",
    "\n",
    "# identificar a posição da primeira lista vazia\n",
    "#realizar o fatiamento da lista apenas com as listas preenchidas\n",
    "\n",
    "dados_file = dados_file[0:pos]\n",
    "\n",
    "print(dados_file)\n",
    "\n",
    "# importando as bibliotecas\n",
    "\n",
    "import pyautogui\n",
    "import time\n",
    "import os\n",
    "\n",
    "time.sleep(1)\n",
    "pyautogui.hotkey('win', 'r')\n",
    "time.sleep(1)\n",
    "pyautogui.typewrite('https://forms.gle/1rfKi5BEicT6JgZz9 \\n')\n",
    "\n",
    "time.sleep(1)\n",
    "\n",
    "cordenadas = pyautogui.locateCenterOnScreen('imagem.png')\n",
    "\n",
    "\n",
    "\n",
    "\n",
    "\n",
    "\n",
    "\n"
   ]
  }
 ],
 "metadata": {
  "kernelspec": {
   "display_name": "base",
   "language": "python",
   "name": "python3"
  },
  "language_info": {
   "codemirror_mode": {
    "name": "ipython",
    "version": 3
   },
   "file_extension": ".py",
   "mimetype": "text/x-python",
   "name": "python",
   "nbconvert_exporter": "python",
   "pygments_lexer": "ipython3",
   "version": "3.10.9"
  },
  "orig_nbformat": 4
 },
 "nbformat": 4,
 "nbformat_minor": 2
}
