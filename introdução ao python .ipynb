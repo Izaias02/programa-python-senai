{
 "cells": [
  {
   "cell_type": "markdown",
   "id": "dba79a28",
   "metadata": {},
   "source": [
    "Exercício 01 –Crie um programa para receber dois valores e em seguida, exiba o valor\n",
    "da soma."
   ]
  },
  {
   "cell_type": "code",
   "execution_count": null,
   "id": "07f75698",
   "metadata": {},
   "outputs": [],
   "source": [
    "valor1 = 10\n",
    "valor2 = 30\n",
    "soma = valor1 + valor2\n",
    "print ( soma)"
   ]
  },
  {
   "cell_type": "markdown",
   "id": "a08af301",
   "metadata": {},
   "source": [
    "Exercício 02 – Crie um programa para receber dois valores e em seguida, exiba o valor\n",
    "da diferença entre eles."
   ]
  },
  {
   "cell_type": "code",
   "execution_count": null,
   "id": "6bacc09c",
   "metadata": {},
   "outputs": [],
   "source": [
    "valor1 = 35\n",
    "valor2 = 64\n",
    "subtracao = valor1 - valor2\n",
    "print ( subtracao )"
   ]
  },
  {
   "cell_type": "markdown",
   "id": "ef9b9bdc",
   "metadata": {},
   "source": [
    "Exercício 03 – Crie um programa para receber dois valores e em seguida, exiba o\n",
    "produto entre eles."
   ]
  },
  {
   "cell_type": "code",
   "execution_count": null,
   "id": "033c2846",
   "metadata": {},
   "outputs": [],
   "source": [
    "valor1 = 15\n",
    "valor2 = 34\n",
    "produto = valor1 * valor2 \n",
    "print('o resultado da multiplicacao e: ' , produto)"
   ]
  },
  {
   "cell_type": "markdown",
   "id": "f00790d0",
   "metadata": {},
   "source": [
    "Exercício 04 - Crie um programa para receber dois valores e em seguida, exiba o\n",
    "quociente entre eles."
   ]
  },
  {
   "cell_type": "code",
   "execution_count": null,
   "id": "9e7a985c",
   "metadata": {},
   "outputs": [],
   "source": [
    "\n",
    "\n"
   ]
  },
  {
   "cell_type": "markdown",
   "id": "e8a9e12b",
   "metadata": {},
   "source": [
    "Exercício 10 - Faça um Programa que converta metros para centímetros."
   ]
  },
  {
   "cell_type": "code",
   "execution_count": null,
   "id": "f12fd1a2",
   "metadata": {},
   "outputs": [],
   "source": [
    "#solicitar ao usuario um valor em metros:\n",
    "metros = input('digite um valor em metros para converter em cm. '):\n",
    "\n",
    "metros = int(metros)\n",
    "type(metros) \n",
    "\n",
    "centimetros = metros * 100\n",
    "print (centimetro)\n"
   ]
  },
  {
   "cell_type": "markdown",
   "id": "76073bb4",
   "metadata": {},
   "source": [
    "Exercício 11 - Faça um Programa que peça o raio de um círculo, calcule e mostre sua\n",
    "área."
   ]
  },
  {
   "cell_type": "code",
   "execution_count": null,
   "id": "0d5abebe",
   "metadata": {},
   "outputs": [],
   "source": [
    "import math\n",
    "\n",
    "# formula Para medir area do circulo \n",
    "# A = pi * R **\n",
    "raio = input('informe o raio do circulo')\n",
    "raio = int(raio)\n",
    "\n",
    "pi = math.pi\n",
    "\n",
    "area = round(pi * raio ** 2, 3)\n",
    "print('a area do circulo e:', area)\n",
    "\n"
   ]
  },
  {
   "cell_type": "markdown",
   "id": "38315926",
   "metadata": {},
   "source": [
    "Exercício 12 - Faça um Programa que calcule a área de um quadrado, em seguida\n",
    "mostre o dobro desta área para o usuário."
   ]
  },
  {
   "cell_type": "code",
   "execution_count": 4,
   "id": "0dea6e09",
   "metadata": {},
   "outputs": [
    {
     "name": "stdout",
     "output_type": "stream",
     "text": [
      "digite o valor referente ao lado do quadrado10\n",
      "o lado do quadrado é : 10.0 em\n",
      "a area do quadrado é: 100.0 em\n",
      "O DOBRO DA AREA É: 200.0 em\n"
     ]
    }
   ],
   "source": [
    "lado = input('digite o valor referente ao lado do quadrado')\n",
    "lado = float(lado) #convereter para numero decimal\n",
    "areaquadrado = lado** 2\n",
    "dobroarea = areaquadrado * 2\n",
    "\n",
    "print('o lado do quadrado é :' , lado, 'em²')\n",
    "print('a area do quadrado é:' ,areaquadrado, 'em²')\n",
    "print('O DOBRO DA AREA É:' ,dobroarea, 'em²')\n",
    "\n",
    "\n"
   ]
  },
  {
   "cell_type": "markdown",
   "id": "13f12050",
   "metadata": {},
   "source": [
    "Exercício 13 - Faça um Programa que pergunte quanto você ganha por hora e o número\n",
    "de horas trabalhadas no mês. Calcule e mostre o total do seu salário no referido mês."
   ]
  },
  {
   "cell_type": "code",
   "execution_count": 6,
   "id": "66b67fb3",
   "metadata": {},
   "outputs": [
    {
     "name": "stdout",
     "output_type": "stream",
     "text": [
      "digite o valor hora:41\n",
      "quantas horas vc trabalhou? 48\n",
      "recebendo um valor por hora de R$ 41.0\n",
      "trabalhando 48.0 horas no mes:\n",
      "o seu salario e de R$ 1968.0\n"
     ]
    }
   ],
   "source": [
    "valorhora = input('digite o valor hora:')\n",
    "valorhora = float(valorhora)\n",
    "\n",
    "horastrab = input('quantas horas vc trabalhou? ')\n",
    "horastrab = float(horastrab)\n",
    "\n",
    "salario = valorhora * horastrab\n",
    "\n",
    "print('recebendo um valor por hora de R$' , valorhora)\n",
    "print('trabalhando' , horastrab, 'horas no mes:')\n",
    "print('o seu salario e de R$' , salario)"
   ]
  },
  {
   "cell_type": "markdown",
   "id": "b8b9b25b",
   "metadata": {},
   "source": [
    "Exercício 14 - Faça um Programa que peça a temperatura em graus Fahrenheit,\n",
    "transforme e mostre a temperatura em graus Celsius."
   ]
  },
  {
   "cell_type": "code",
   "execution_count": 7,
   "id": "7e334e69",
   "metadata": {},
   "outputs": [
    {
     "name": "stdout",
     "output_type": "stream",
     "text": [
      "digite a temperatura medida em fahrenheit:38\n",
      "o valor em graus fahrenheit de 38.0  equivale a 3.333333333333333 graus celsius:\n"
     ]
    }
   ],
   "source": [
    "# c = F-32 / 1,8\n",
    "\n",
    "tempfahrenheit = input('digite a temperatura medida em fahrenheit:')\n",
    "tempfahrenheit = float(tempfahrenheit)\n",
    "\n",
    "tempcelsius = (tempfahrenheit - 32) / 1.8\n",
    "print('o valor em graus fahrenheit de', tempfahrenheit,' equivale a', tempcelsius, 'graus celsius:' )"
   ]
  },
  {
   "cell_type": "markdown",
   "id": "d8dc4e2c",
   "metadata": {},
   "source": [
    "Exercício 15 - Faça um Programa que peça a temperatura em graus Celsius, transforme\n",
    "e mostre em graus Fahrenheit."
   ]
  },
  {
   "cell_type": "code",
   "execution_count": 8,
   "id": "e872a82a",
   "metadata": {},
   "outputs": [
    {
     "name": "stdout",
     "output_type": "stream",
     "text": [
      "digite a temperatura medida em celsius:36\n",
      "o valor em graus celsius de 36.0  equivale a 96.8 graus fahrenheit:\n"
     ]
    }
   ],
   "source": [
    "tempcelsius = input('digite a temperatura medida em celsius:')\n",
    "tempcelsius = float(tempcelsius)\n",
    "\n",
    "tempfahrenheit = (tempcelsius * 1.8) + 32\n",
    "print('o valor em graus celsius de' ,tempcelsius , ' equivale a', tempfahrenheit, 'graus fahrenheit:')"
   ]
  },
  {
   "cell_type": "code",
   "execution_count": null,
   "id": "e07f77c3",
   "metadata": {},
   "outputs": [],
   "source": []
  },
  {
   "cell_type": "markdown",
   "id": "2469af5e",
   "metadata": {},
   "source": []
  },
  {
   "cell_type": "code",
   "execution_count": null,
   "id": "36d6ed7f",
   "metadata": {},
   "outputs": [],
   "source": []
  },
  {
   "cell_type": "code",
   "execution_count": null,
   "id": "ab9b4ac4",
   "metadata": {},
   "outputs": [],
   "source": []
  }
 ],
 "metadata": {
  "kernelspec": {
   "display_name": "Python 3 (ipykernel)",
   "language": "python",
   "name": "python3"
  },
  "language_info": {
   "codemirror_mode": {
    "name": "ipython",
    "version": 3
   },
   "file_extension": ".py",
   "mimetype": "text/x-python",
   "name": "python",
   "nbconvert_exporter": "python",
   "pygments_lexer": "ipython3",
   "version": "3.10.9"
  }
 },
 "nbformat": 4,
 "nbformat_minor": 5
}
