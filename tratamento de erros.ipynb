{
 "cells": [
  {
   "cell_type": "code",
   "execution_count": 1,
   "metadata": {},
   "outputs": [
    {
     "name": "stdout",
     "output_type": "stream",
     "text": [
      "an exception accurred\n"
     ]
    }
   ],
   "source": [
    "\n",
    "try:\n",
    "    print(x)\n",
    "except:\n",
    "    print('an exception accurred')"
   ]
  },
  {
   "cell_type": "markdown",
   "metadata": {},
   "source": [
    "o bloco finally, se especificado, será executado independentemente se o bloco try gerar um erro ou não."
   ]
  },
  {
   "cell_type": "code",
   "execution_count": 22,
   "metadata": {},
   "outputs": [
    {
     "name": "stdout",
     "output_type": "stream",
     "text": [
      "something went wrong\n",
      "o bloco try except está finalizado\n"
     ]
    }
   ],
   "source": [
    "try:\n",
    "    print(x)\n",
    "except:\n",
    "    print('something went wrong')\n",
    "finally:\n",
    "    print('o bloco try except está finalizado')"
   ]
  },
  {
   "cell_type": "markdown",
   "metadata": {},
   "source": [
    "# Raise ( levantar uma exceção)\n",
    "a palavra chave- raise é usada para gerar uma eceção de erro: Você pode denir que tipo de erro gerar e o texto a ser impresso para o usuario."
   ]
  },
  {
   "cell_type": "code",
   "execution_count": 24,
   "metadata": {},
   "outputs": [
    {
     "ename": "TypeError",
     "evalue": " este erro foi definifo pelo programador",
     "output_type": "error",
     "traceback": [
      "\u001b[1;31m---------------------------------------------------------------------------\u001b[0m",
      "\u001b[1;31mTypeError\u001b[0m                                 Traceback (most recent call last)",
      "Cell \u001b[1;32mIn[24], line 4\u001b[0m\n\u001b[0;32m      1\u001b[0m x \u001b[39m=\u001b[39m \u001b[39m'\u001b[39m\u001b[39mhello baby\u001b[39m\u001b[39m'\u001b[39m\n\u001b[0;32m      3\u001b[0m \u001b[39mif\u001b[39;00m \u001b[39mnot\u001b[39;00m \u001b[39mtype\u001b[39m(x) \u001b[39mis\u001b[39;00m \u001b[39mint\u001b[39m:\n\u001b[1;32m----> 4\u001b[0m     \u001b[39mraise\u001b[39;00m \u001b[39mTypeError\u001b[39;00m(\u001b[39m'\u001b[39m\u001b[39m este erro foi definifo pelo programador\u001b[39m\u001b[39m'\u001b[39m)\n",
      "\u001b[1;31mTypeError\u001b[0m:  este erro foi definifo pelo programador"
     ]
    }
   ],
   "source": [
    "x = 'hello baby'\n",
    "\n",
    "if not type(x) is int:\n",
    "    raise TypeError(' este erro foi definifo pelo programador')"
   ]
  },
  {
   "cell_type": "markdown",
   "metadata": {},
   "source": [
    "Exercício 01 – Escreva um programa Python para lidar com uma exceção \n",
    "ZeroDivisionError ao dividir um número por zero.\n",
    "exception ZeroDivisionError:\n",
    "Gerado quando o segundo argumento de uma operação de divisão ou módulo é zero. \n",
    "O valor associado é uma string que indica o tipo dos operandos e a operação.\n"
   ]
  },
  {
   "cell_type": "code",
   "execution_count": 9,
   "metadata": {},
   "outputs": [
    {
     "name": "stdout",
     "output_type": "stream",
     "text": [
      "favor, digite um numero não nulo!\n"
     ]
    }
   ],
   "source": [
    "def divide_numbers (x , y):\n",
    "    \n",
    "\n",
    "    try:\n",
    "        x = float(x)\n",
    "        y = float(y)\n",
    "        result = x / y\n",
    "        return result\n",
    "    except ZeroDivisionError:\n",
    "        print('não é permitido divisão por zero')\n",
    "    except ValueError:\n",
    "        print('favor, digite um numero não nulo!') \n",
    "\n",
    "        \n",
    "           \n",
    "numerador = 100\n",
    "denominador = 's'\n",
    "\n",
    "divide_numbers(numerador, denominador)\n",
    "\n",
    "\n",
    "\n"
   ]
  },
  {
   "cell_type": "markdown",
   "metadata": {},
   "source": [
    "Exercício 02 - Escreva um programa Python que solicite ao usuário que insira um inteiro e gere uma exceção ValueError se a entrada não for um inteiro válido.\n",
    "exception ValueError:\n",
    "Gerado quando uma operação ou função recebe um argumento que tem o tipo certo, mas um valor inadequado, e a situação não é descrita por uma exceção mais precisa, como IndexError."
   ]
  },
  {
   "cell_type": "code",
   "execution_count": 2,
   "metadata": {},
   "outputs": [
    {
     "name": "stdout",
     "output_type": "stream",
     "text": [
      "erro:informação invalida! Digite um numero inteiro\n",
      "O valor digitado é: None\n"
     ]
    }
   ],
   "source": [
    "# função\n",
    "def get_integer_input(number):\n",
    "    try:\n",
    "        valor = int(number)\n",
    "        return valor\n",
    "    except ValueError:\n",
    "        print('erro:informação invalida! Digite um numero inteiro')\n",
    "\n",
    "#uso ( teste)\n",
    "\n",
    "n = input('digite um numero inteiro:')\n",
    "print('O valor digitado é:', get_integer_input(n)) "
   ]
  },
  {
   "cell_type": "markdown",
   "metadata": {},
   "source": [
    "Exercício 15 - Faça um programa para a leitura de duas notas parciais de um aluno. O \n",
    "programa deve calcular a média alcançada por aluno e apresentar:\n",
    "• A mensagem \"Aprovado\", se a média alcançada for maior ou igual a sete;\n",
    "• A mensagem \"Reprovado\", se a média for menor do que sete;\n",
    "• A mensagem \"Aprovado com Distinção\", se a média for igual a dez."
   ]
  },
  {
   "cell_type": "code",
   "execution_count": 21,
   "metadata": {},
   "outputs": [
    {
     "data": {
      "text/plain": [
       "'aprovado!'"
      ]
     },
     "execution_count": 21,
     "metadata": {},
     "output_type": "execute_result"
    }
   ],
   "source": [
    "def media_number():\n",
    "    \n",
    "\n",
    "    try:    \n",
    "        number1 = float(input('digite a primeira nota:'))\n",
    "        number2 = float(input('digite a segunda nota:'))\n",
    "        media = (number1 + number2)/2\n",
    "        if media >= 7:\n",
    "            conceito = 'aprovado!'\n",
    "        elif media < 7:\n",
    "            conceito ='reprovado!'\n",
    "        elif media == 10:\n",
    "            conceito ='Aprovado com distinção!'\n",
    "\n",
    "        return conceito \n",
    "\n",
    "\n",
    "    except:\n",
    "        print('favor,digite um valor valido:')\n",
    "\n",
    "                                                   \n",
    "media_number()\n",
    "    "
   ]
  },
  {
   "cell_type": "markdown",
   "metadata": {},
   "source": [
    "Exercício 03 - Escreva um programa Python que abra um arquivo e manipule uma exceção FileNotFoundError se o arquivo não existir.\n",
    "exception FileNotFoundError:\n",
    "Gerado quando um arquivo ou diretório é solicitado, mas não existe. Corresponde ao erro ENOENT."
   ]
  },
  {
   "cell_type": "code",
   "execution_count": null,
   "metadata": {},
   "outputs": [],
   "source": [
    "def open_file(filename):\n",
    "    try:\n",
    "        file = open(filename,'r')\n",
    "        contents = file.read()\n",
    "        print('file contents:')\n",
    "        print(contents)\n",
    "        file.close()\n",
    "    except FileNotFoundError:\n",
    "        print('erro: Arquivo não localizado!')\n",
    "\n",
    "        # uso da função\n",
    "\n",
    "    arquivo = input('informe o caminho do arquivo:')\n",
    "\n",
    "    open_file(arquivo)\n",
    "    \n",
    "\n",
    "\n",
    "\n",
    "\n"
   ]
  }
 ],
 "metadata": {
  "kernelspec": {
   "display_name": "base",
   "language": "python",
   "name": "python3"
  },
  "language_info": {
   "codemirror_mode": {
    "name": "ipython",
    "version": 3
   },
   "file_extension": ".py",
   "mimetype": "text/x-python",
   "name": "python",
   "nbconvert_exporter": "python",
   "pygments_lexer": "ipython3",
   "version": "3.10.9"
  },
  "orig_nbformat": 4
 },
 "nbformat": 4,
 "nbformat_minor": 2
}
