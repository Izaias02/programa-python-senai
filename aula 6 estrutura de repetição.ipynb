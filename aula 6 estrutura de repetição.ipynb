{
 "cells": [
  {
   "cell_type": "markdown",
   "id": "e590fb80",
   "metadata": {},
   "source": [
    "Exercício 14 - Faça um programa que peça 10 números inteiros, calcule e mostre a\n",
    "quantidade de números pares e a quantidade de números ímpares."
   ]
  },
  {
   "cell_type": "code",
   "execution_count": null,
   "id": "5a9830b6",
   "metadata": {},
   "outputs": [],
   "source": [
    "numeros = []\n",
    "\n",
    "i = 1\n",
    "\n",
    "while i <= 10:\n",
    "    num = int(input('digite o numero: '))\n",
    "    numeros.append(num) \n",
    "    \n",
    "    i = i + 1\n",
    "#     calcular a quantidade de numeros pares e impares\n",
    "par = 0\n",
    "impar = 0\n",
    "\n",
    "for x in numeros:\n",
    "    if x%2 == 0:\n",
    "        par = par + 1\n",
    "        \n",
    "    else:\n",
    "        impar = impar + 1 \n",
    "        \n",
    "print(f'na lista{numeros},')        \n",
    "print(f'a quantidade de numeros pares é:{par}:')\n",
    "print(f'a quantidade de numeros impares é:{impar}:')"
   ]
  },
  {
   "cell_type": "markdown",
   "id": "816dc1ef",
   "metadata": {},
   "source": [
    "Exercício 15 - A série de Fibonacci é formada pela sequência 1,1,2,3,5,8,13,21,34,55,...\n",
    "Faça um programa capaz de gerar a série até o enésimo termo."
   ]
  },
  {
   "cell_type": "code",
   "execution_count": null,
   "id": "80e4df7e",
   "metadata": {},
   "outputs": [],
   "source": [
    "\n",
    "quant_num =int(input('digite a quantidade de termos a serem gerados'))\n",
    "\n",
    "serief = [1] # a serie ira iniciar em 1\n",
    "\n",
    "i = 0\n",
    "while i <= quant_num:     # repetir o bloco até o valor de i ser igual a quant_num\n",
    "    \n",
    "    if serief[0] == 1 and i == 0:    # se a quantidade de elementos for igual a 1 e os elementos for igual a 0\n",
    "        serief.append(1)           # colocar mais um termo \n",
    "    else:\n",
    "        a =serief[i] + serief[i-1]         # se não a quantidade de elementos soma  o elemento atual menos 1 \n",
    "        serief.append(a)                   # coloca o elemento gerado na lista \n",
    "        print('o valor do contador',i )\n",
    "        print(serief)\n",
    "    \n",
    "    i = i + 1      # o elemento atual é igual ha ele mesmo mais 1 para definir o proximo elemento \n",
    "    "
   ]
  },
  {
   "cell_type": "markdown",
   "id": "ac5024f1",
   "metadata": {},
   "source": [
    "Exercício 16 - A série de Fibonacci é formada pela sequência\n",
    "0,1,1,2,3,5,8,13,21,34,55,... Faça um programa que gere a série até que o valor seja\n",
    "maior que 500."
   ]
  },
  {
   "cell_type": "code",
   "execution_count": null,
   "id": "a4bee764",
   "metadata": {},
   "outputs": [],
   "source": [
    "quant_num = int(input(' digite a quantidade de elementos:'))\n",
    "\n",
    "serief = [1,1]\n",
    "\n",
    "i = 0 \n",
    "\n",
    "while serief[-1] <= 500:\n",
    "    \n",
    "    a = serief[-1] + serief[-2]\n",
    "        \n",
    "    if a > 500:\n",
    "        break\n",
    "    \n",
    "    serief.append(a)\n",
    "    \n",
    "print(serief)"
   ]
  },
  {
   "cell_type": "markdown",
   "id": "6c9fe329",
   "metadata": {},
   "source": [
    "Exercício 24 - Faça um programa que calcule o mostre a média aritmética de N notas."
   ]
  },
  {
   "cell_type": "code",
   "execution_count": null,
   "id": "59fa968a",
   "metadata": {},
   "outputs": [],
   "source": [
    "notas = [10, 9, 7, 6, 5]\n",
    "soma = 0\n",
    "\n",
    "for n in notas:\n",
    "    soma = n + soma\n",
    "\n",
    "elementos= len(notas)\n",
    "media = soma / elementos\n",
    "print(f'a média das notas é :{media}')"
   ]
  },
  {
   "cell_type": "code",
   "execution_count": 2,
   "id": "69c6936d",
   "metadata": {},
   "outputs": [
    {
     "name": "stdout",
     "output_type": "stream",
     "text": [
      "digite a nota.( para sair digite S:)8\n",
      "digite a nota.( para sair digite S:)7\n",
      "digite a nota.( para sair digite S:)9\n",
      "digite a nota.( para sair digite S:)s\n"
     ]
    },
    {
     "ename": "TypeError",
     "evalue": "can only concatenate str (not \"int\") to str",
     "output_type": "error",
     "traceback": [
      "\u001b[1;31m---------------------------------------------------------------------------\u001b[0m",
      "\u001b[1;31mTypeError\u001b[0m                                 Traceback (most recent call last)",
      "Cell \u001b[1;32mIn[2], line 13\u001b[0m\n\u001b[0;32m     10\u001b[0m soma \u001b[38;5;241m=\u001b[39m \u001b[38;5;241m0\u001b[39m\n\u001b[0;32m     12\u001b[0m \u001b[38;5;28;01mfor\u001b[39;00m n \u001b[38;5;129;01min\u001b[39;00m notas:\n\u001b[1;32m---> 13\u001b[0m     soma \u001b[38;5;241m=\u001b[39m \u001b[43mn\u001b[49m\u001b[43m \u001b[49m\u001b[38;5;241;43m+\u001b[39;49m\u001b[43m \u001b[49m\u001b[43msoma\u001b[49m\n\u001b[0;32m     15\u001b[0m elementos\u001b[38;5;241m=\u001b[39m \u001b[38;5;28mlen\u001b[39m(notas)\n\u001b[0;32m     16\u001b[0m media \u001b[38;5;241m=\u001b[39m soma \u001b[38;5;241m/\u001b[39m elementos\n",
      "\u001b[1;31mTypeError\u001b[0m: can only concatenate str (not \"int\") to str"
     ]
    }
   ],
   "source": [
    "notas = []\n",
    "\n",
    "entrada = input('digite a nota.( para sair digite S:)')\n",
    "\n",
    "while entrada.lower() != 's':          # enquanto não for s faça \n",
    "   \n",
    "    notas.append(entrada)\n",
    "    entrada = input('digite a nota.( para sair digite S:)')\n",
    "\n",
    "soma = 0\n",
    "\n",
    "for n in notas:\n",
    "    soma = n + soma\n",
    "\n",
    "elementos= len(notas)\n",
    "media = soma / elementos\n",
    "print(f'a média das notas é :{media}')"
   ]
  },
  {
   "cell_type": "code",
   "execution_count": null,
   "id": "6913a776",
   "metadata": {},
   "outputs": [],
   "source": []
  },
  {
   "cell_type": "code",
   "execution_count": null,
   "id": "f22e41c6",
   "metadata": {},
   "outputs": [],
   "source": []
  }
 ],
 "metadata": {
  "kernelspec": {
   "display_name": "Python 3 (ipykernel)",
   "language": "python",
   "name": "python3"
  },
  "language_info": {
   "codemirror_mode": {
    "name": "ipython",
    "version": 3
   },
   "file_extension": ".py",
   "mimetype": "text/x-python",
   "name": "python",
   "nbconvert_exporter": "python",
   "pygments_lexer": "ipython3",
   "version": "3.10.9"
  }
 },
 "nbformat": 4,
 "nbformat_minor": 5
}
