{
 "cells": [
  {
   "cell_type": "markdown",
   "id": "8699a438",
   "metadata": {},
   "source": [
    "Questão 01 -  Escreva um programa que exiba os números de 1 a 10 em ordem crescente.\n"
   ]
  },
  {
   "cell_type": "code",
   "execution_count": null,
   "id": "beb57998",
   "metadata": {},
   "outputs": [],
   "source": [
    "numeros = range(1,11)\n",
    "for x in numeros:\n",
    "    print(x)"
   ]
  },
  {
   "cell_type": "markdown",
   "id": "23e18102",
   "metadata": {},
   "source": [
    "Questão 02 -  Escreva um programa que calcule a média de uma lista de números. A lista deve conter pelo menos 5 números."
   ]
  },
  {
   "cell_type": "code",
   "execution_count": 12,
   "id": "1e1fea53",
   "metadata": {},
   "outputs": [
    {
     "name": "stdout",
     "output_type": "stream",
     "text": [
      "a média das notas é :26.6\n"
     ]
    }
   ],
   "source": [
    "numeros = [12, 15, 17, 38, 51]\n",
    "soma = 0\n",
    "elementos = 0\n",
    "for n in numeros:\n",
    "    soma = n + soma\n",
    "\n",
    "    elementos += 1\n",
    "    media = soma / elementos\n",
    "print(f'a média das notas é :{media}')\n",
    "\n",
    "    "
   ]
  },
  {
   "cell_type": "markdown",
   "id": "3af921cd",
   "metadata": {},
   "source": [
    "Questão 03 -  Escreva um programa que gere a sequência de Fibonacci até o décimo termo. A sequência de Fibonacci é formada pela soma dos dois termos anteriores, começando com 0 e 1. A sequência fica assim: 0, 1, 1, 2, 3, 5, 8, 13, 21, 34..."
   ]
  },
  {
   "cell_type": "code",
   "execution_count": 17,
   "id": "8355554f",
   "metadata": {},
   "outputs": [
    {
     "name": "stdout",
     "output_type": "stream",
     "text": [
      "[0, 1, 1, 2, 3, 5, 8, 13, 21, 34]\n"
     ]
    }
   ],
   "source": [
    "quantidade_termos = 10\n",
    "\n",
    "serie = [0]\n",
    "\n",
    "i = 0\n",
    "while i <= quantidade_termos -2:\n",
    "    if serie[0] == 0 and i == 0:    \n",
    "        serie.append(1)          \n",
    "    else:\n",
    "        a = serie[i] + serie[i-1]       \n",
    "        serie.append(a)                  \n",
    "        \n",
    "    \n",
    "    i = i + 1 \n",
    "print(serie)"
   ]
  },
  {
   "cell_type": "markdown",
   "id": "d6c2d93f",
   "metadata": {},
   "source": [
    "Questão 04 -  Escreva um programa que leia um número inteiro positivo n do usuário e exiba a soma de todos os números de 1 até n."
   ]
  },
  {
   "cell_type": "code",
   "execution_count": 22,
   "id": "cd2fe05c",
   "metadata": {},
   "outputs": [
    {
     "name": "stdout",
     "output_type": "stream",
     "text": [
      "digite um numero inteiro:10\n",
      "0\n",
      "1\n",
      "3\n",
      "6\n",
      "10\n",
      "15\n",
      "21\n",
      "28\n",
      "36\n",
      "45\n",
      "55\n"
     ]
    }
   ],
   "source": [
    "num = int(input('digite um numero inteiro:'))\n",
    "lista = []\n",
    "i = 0\n",
    "soma = 0\n",
    "while i <= num:\n",
    "    soma += i\n",
    "    i += 1\n",
    "    print(soma)\n"
   ]
  },
  {
   "cell_type": "markdown",
   "id": "84fdc325",
   "metadata": {},
   "source": [
    "Questão 05 -  Escreva um programa que receba uma lista de números do usuário e exiba apenas os números pares presentes na lista e sua respectiva quantidade."
   ]
  },
  {
   "cell_type": "code",
   "execution_count": 37,
   "id": "a9da86b6",
   "metadata": {},
   "outputs": [
    {
     "name": "stdout",
     "output_type": "stream",
     "text": [
      "digite um valo, ou  [s] para sair:4\n",
      "digite um valo, ou  [s] para sair.5\n",
      "digite um valo, ou  [s] para sair.6\n",
      "digite um valo, ou  [s] para sair.s\n",
      "[4, 6]\n",
      "a quantidade de numeros pares é:2\n"
     ]
    }
   ],
   "source": [
    "resposta = input('digite um valo, ou  [s] para sair:')\n",
    "lista = []\n",
    "\n",
    "numeros = []\n",
    "\n",
    "quantidade = 0\n",
    "\n",
    "while resposta.lower() != 's':\n",
    "   \n",
    "    lista.append(int(resposta))\n",
    "    resposta = input('digite um valo, ou  [s] para sair.')\n",
    "    \n",
    "    \n",
    "for x in lista:\n",
    "       \n",
    "        if x% 2 == 0 and x != 0:\n",
    "            numeros.append(x)\n",
    "            quantidade += 1\n",
    "print(numeros)\n",
    "print(f'a quantidade de numeros pares é:{quantidade}')    "
   ]
  }
 ],
 "metadata": {
  "kernelspec": {
   "display_name": "Python 3 (ipykernel)",
   "language": "python",
   "name": "python3"
  },
  "language_info": {
   "codemirror_mode": {
    "name": "ipython",
    "version": 3
   },
   "file_extension": ".py",
   "mimetype": "text/x-python",
   "name": "python",
   "nbconvert_exporter": "python",
   "pygments_lexer": "ipython3",
   "version": "3.10.9"
  }
 },
 "nbformat": 4,
 "nbformat_minor": 5
}
