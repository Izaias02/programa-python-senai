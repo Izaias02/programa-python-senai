{
 "cells": [
  {
   "cell_type": "markdown",
   "metadata": {},
   "source": [
    "Desenvolva um script para abrir arquivos em txt e converta em Excel, aplicando regras de formatação, atribuindo bordas formatação do cabeçalho.\n",
    "\n",
    "Para desenvolver este desafio, você deve:\n",
    " - Utilizar as bibliotecas apropriadas;\n",
    " - Criar uma função para abrir arquivos;\n",
    " - Criar regras para tratamentos de erros;\n",
    " - Aplicar regras para tratamento dos dados;\n",
    " - Salvar o documento em um diretório correto."
   ]
  },
  {
   "cell_type": "code",
   "execution_count": null,
   "metadata": {},
   "outputs": [],
   "source": [
    "# LER O ARQUIVO\n",
    "def convert_dados(chamados):\n",
    "    encoding = input('insira o enconding do arquivo: (ANSI, UTF-16, UTF-8 OU ANCII):')\n",
    "    try:\n",
    "        with open(chamados, 'r', encoding=encoding) as file:\n",
    "            leitura = file.read()\n",
    "            return leitura\n",
    "    except UnicodeDecodeError:\n",
    "        print('ERRO: Ocorreu um erro no encoding,selecione o tipo coreto.')\n",
    "    except FileNotFoundError:\n",
    "        print('ERRO: Arquivo não encontrado:')\n",
    "\n",
    "arquivo = input('digite o caminho completo do arquivo:')\n",
    "conteudo = convert_dados(arquivo)           #colocar dentro da variavel conteudo o resultado da função com os dados dentro do caminho\n",
    "\n",
    "# abrir o arquivo em excel\n",
    "\n",
    "lista = conteudo.splitlines()       # converter texto em linhas \n",
    "\n",
    "for i in range(0, len(lista)):          # range pega elemento por elemento do conteudo convertido em linhas\n",
    "\n",
    "    lista[i] = lista[i].replace('\"','')\n",
    "    lista[i] = lista[i].replace(';',',')\n",
    "    lista[i] = lista[i].split(',')              #converter string para lista linha por linha\n",
    "    \n",
    "\n",
    "import openpyxl as xl\n",
    "\n",
    "wb = xl.Workbook()\n",
    "planilha = wb.active\n",
    "\n",
    "\n",
    "for linha in lista:\n",
    "    planilha.append(linha)\n",
    "\n",
    "wb.save('teste.xlsx')"
   ]
  }
 ],
 "metadata": {
  "kernelspec": {
   "display_name": "base",
   "language": "python",
   "name": "python3"
  },
  "language_info": {
   "codemirror_mode": {
    "name": "ipython",
    "version": 3
   },
   "file_extension": ".py",
   "mimetype": "text/x-python",
   "name": "python",
   "nbconvert_exporter": "python",
   "pygments_lexer": "ipython3",
   "version": "3.10.9"
  },
  "orig_nbformat": 4
 },
 "nbformat": 4,
 "nbformat_minor": 2
}
