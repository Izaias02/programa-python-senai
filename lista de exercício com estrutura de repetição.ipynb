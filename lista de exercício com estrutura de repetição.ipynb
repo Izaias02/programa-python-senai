{
 "cells": [
  {
   "cell_type": "markdown",
   "id": "5c81aa63",
   "metadata": {},
   "source": [
    "exercico 6\n",
    "\n",
    "Faça um programa que imprima na tela os numeros de 1 a 20, um abaixo do outro. Depois modifique o programa para que ele mostre os numeros um ao lado do outro."
   ]
  },
  {
   "cell_type": "code",
   "execution_count": 11,
   "id": "f91313f4",
   "metadata": {},
   "outputs": [
    {
     "name": "stdout",
     "output_type": "stream",
     "text": [
      "1\n",
      "2\n",
      "3\n",
      "4\n",
      "5\n",
      "6\n",
      "7\n",
      "8\n",
      "9\n",
      "10\n",
      "11\n",
      "12\n",
      "13\n",
      "14\n",
      "15\n",
      "16\n",
      "17\n",
      "18\n",
      "19\n",
      "20\n"
     ]
    }
   ],
   "source": [
    "\n",
    "lista = range(1, 21) # range() comando responsavel para trazer listas de numeros.\n",
    "\n",
    "for x in lista:\n",
    "    print(x)"
   ]
  },
  {
   "cell_type": "code",
   "execution_count": 26,
   "id": "b8bf53bd",
   "metadata": {},
   "outputs": [
    {
     "name": "stdout",
     "output_type": "stream",
     "text": [
      "Foram adicionados 20 elementos à lista\n",
      "[1, 2, 3, 4, 5, 6, 7, 8, 9, 10, 11, 12, 13, 14, 15, 16, 17, 18, 19, 20]\n"
     ]
    }
   ],
   "source": [
    "lista = range(1, 21)\n",
    "numeros = [] # lista vazia\n",
    "for x in lista:\n",
    "    numeros.append(x)\n",
    "print(f'Foram adicionados {x} elementos à lista')\n",
    "print(numeros)"
   ]
  },
  {
   "cell_type": "markdown",
   "id": "fd507509",
   "metadata": {},
   "source": [
    "exercicio 7\n",
    "faça um programa que leia 5 numeros e informe o maior numero:"
   ]
  },
  {
   "cell_type": "code",
   "execution_count": 73,
   "id": "bc450080",
   "metadata": {},
   "outputs": [
    {
     "name": "stdout",
     "output_type": "stream",
     "text": [
      "digite um numero:59\n",
      "digite um numero:35\n",
      "digite um numero:41\n",
      "digite um numero:55\n",
      "digite um numero:68\n",
      "o maior valor entre eles é o 68 e o menor é 35\n"
     ]
    }
   ],
   "source": [
    "controle = range(0, 5) #lista psrs controle de repetiç~so\n",
    "numeros= [] #lista utilizada para armazenar os numeros inseridos\n",
    "\n",
    "for x in controle:\n",
    "    num = int(input('digite um numero:'))\n",
    "    numeros.append(num)\n",
    "maior = max(numeros)\n",
    "menor = min(numeros)\n",
    "print(f'o maior valor entre eles é o {maior} e o menor é {menor}')"
   ]
  },
  {
   "cell_type": "markdown",
   "id": "6d509a00",
   "metadata": {},
   "source": [
    "exercicio 8\n",
    "faça um programa que leia 5 numeros e informe a soma e a media dos numeros:"
   ]
  },
  {
   "cell_type": "code",
   "execution_count": null,
   "id": "d491a0c1",
   "metadata": {},
   "outputs": [],
   "source": [
    "controle = rande(0,5)\n"
   ]
  },
  {
   "cell_type": "markdown",
   "id": "4ea87279",
   "metadata": {},
   "source": [
    "exercicio 9\n",
    "faça um programa que imprima na tela apenas os numeros impares entre 1 e 50."
   ]
  },
  {
   "cell_type": "code",
   "execution_count": 58,
   "id": "c3d1760c",
   "metadata": {},
   "outputs": [
    {
     "name": "stdout",
     "output_type": "stream",
     "text": [
      "1\n",
      "3\n",
      "5\n",
      "7\n",
      "9\n",
      "11\n",
      "13\n",
      "15\n",
      "17\n",
      "19\n",
      "21\n",
      "23\n",
      "25\n",
      "27\n",
      "29\n",
      "31\n",
      "33\n",
      "35\n",
      "37\n",
      "39\n",
      "41\n",
      "43\n",
      "45\n",
      "47\n",
      "49\n"
     ]
    }
   ],
   "source": [
    "lista = range(1, 51)\n",
    "for x in lista:\n",
    "    if x % 2 != 0:\n",
    "        print(x)\n",
    "  \n"
   ]
  },
  {
   "cell_type": "code",
   "execution_count": 65,
   "id": "f63b4cb1",
   "metadata": {},
   "outputs": [
    {
     "name": "stdout",
     "output_type": "stream",
     "text": [
      "[1, 3, 5, 7, 9, 11, 13, 15, 17, 19, 21, 23, 25, 27, 29, 31, 33, 35, 37, 39, 41, 43, 45, 47, 49]\n"
     ]
    }
   ],
   "source": [
    "lista = range(1, 51)\n",
    "numeros = []\n",
    "for x in lista:\n",
    "    if x % 2 != 0:\n",
    "        numeros.append(x)\n",
    "print(numeros)"
   ]
  },
  {
   "cell_type": "markdown",
   "id": "d8ef4511",
   "metadata": {},
   "source": [
    "exercicio 10\n",
    "faça um programa que receba dois numeros inteiros e gere os numeros inteiros que estao no intervalo compreendido por eles."
   ]
  },
  {
   "cell_type": "code",
   "execution_count": 66,
   "id": "0e0eaf31",
   "metadata": {},
   "outputs": [
    {
     "name": "stdout",
     "output_type": "stream",
     "text": [
      "digite um numero inteiro12\n",
      "digite o segundo numero inteiro28\n",
      "12\n",
      "13\n",
      "14\n",
      "15\n",
      "16\n",
      "17\n",
      "18\n",
      "19\n",
      "20\n",
      "21\n",
      "22\n",
      "23\n",
      "24\n",
      "25\n",
      "26\n",
      "27\n"
     ]
    }
   ],
   "source": [
    "num1 = int(input('digite um numero inteiro'))\n",
    "num2 = int(input('digite o segundo numero inteiro'))\n",
    "\n",
    "lista = range(num1, num2)\n",
    "for x in lista:\n",
    "    print(x)"
   ]
  },
  {
   "cell_type": "markdown",
   "id": "ff7d1234",
   "metadata": {},
   "source": [
    "exercico 11"
   ]
  },
  {
   "cell_type": "markdown",
   "id": "a8cc7046",
   "metadata": {},
   "source": [
    "exercicio 12"
   ]
  },
  {
   "cell_type": "code",
   "execution_count": 93,
   "id": "31a851a6",
   "metadata": {},
   "outputs": [
    {
     "name": "stdout",
     "output_type": "stream",
     "text": [
      "digite o numero que você deseja ver a tabuada12\n",
      "este numero esta fora dos parametros:\n"
     ]
    }
   ],
   "source": [
    "controle = range(1, 11)\n",
    "num = int(input('digite o numero que você deseja ver a tabuada'))\n",
    "if num >= 1 and num <= 10:\n",
    "    print(f'digite o numero que deseja a tabuada:{num}')\n",
    "    for x in controle:\n",
    "        calculo = num * x \n",
    "        print(f'{num} X {x} = {calculo}')\n",
    "else:\n",
    "    print('este numero esta fora dos parametros:')"
   ]
  },
  {
   "cell_type": "code",
   "execution_count": null,
   "id": "b93e00b5",
   "metadata": {},
   "outputs": [],
   "source": []
  }
 ],
 "metadata": {
  "kernelspec": {
   "display_name": "Python 3 (ipykernel)",
   "language": "python",
   "name": "python3"
  },
  "language_info": {
   "codemirror_mode": {
    "name": "ipython",
    "version": 3
   },
   "file_extension": ".py",
   "mimetype": "text/x-python",
   "name": "python",
   "nbconvert_exporter": "python",
   "pygments_lexer": "ipython3",
   "version": "3.10.9"
  }
 },
 "nbformat": 4,
 "nbformat_minor": 5
}
