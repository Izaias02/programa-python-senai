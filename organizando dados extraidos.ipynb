{
 "cells": [
  {
   "cell_type": "markdown",
   "metadata": {},
   "source": []
  },
  {
   "cell_type": "code",
   "execution_count": null,
   "metadata": {},
   "outputs": [],
   "source": [
    "!pip install PyPDF2"
   ]
  },
  {
   "cell_type": "code",
   "execution_count": 30,
   "metadata": {},
   "outputs": [],
   "source": [
    "import openpyxl as xl\n",
    "import os\n",
    "\n",
    "#-------- abrir os arquivos\n",
    "caminho = 'C:\\\\Users\\\\FIC\\\\Documents\\\\izaias python\\\\'\n",
    "\n",
    "file = open(caminho + 'Ponto e virgula.txt','r',encoding= ' ANSI')\n",
    "\n",
    "arquivo = 'Ponto e virgula.txt'\n",
    "\n",
    "arquivo = file.read()\n",
    "\n",
    "# -------\n",
    "\n",
    "lista_dados = arquivo.splitlines()\n",
    "\n",
    "\n",
    "for i in range(0, len(lista_dados)):\n",
    "\n",
    "# ----------substitui o texto anterior com aspas para o novo --------------\n",
    "\n",
    "    lista_dados[i] = lista_dados[i].replace('\"','')\n",
    "    lista_dados[i] = lista_dados[i].replace(';',',')\n",
    "\n",
    "# -------divide os elementos como lista------------------\n",
    "    lista_dados[i] = lista_dados[i].split(',')\n",
    "    \n",
    "\n",
    "# ---------------------------gerando os documentos em excel---------------------------------------------\n",
    "\n",
    "wb = xl.Workbook()\n",
    "planilha = wb.active\n",
    "\n",
    "# --------------------------escrevendo os dados no arquivo excel----------------------------------\n",
    "\n",
    "for linha in lista_dados:\n",
    "    planilha.append(linha)\n",
    "\n",
    "# -------------- salvando o arquivo em excel-----------------\n",
    "\n",
    "wb.save(filename= caminho + 'ponto e virgula.xlsx')\n",
    "\n"
   ]
  }
 ],
 "metadata": {
  "kernelspec": {
   "display_name": "base",
   "language": "python",
   "name": "python3"
  },
  "language_info": {
   "codemirror_mode": {
    "name": "ipython",
    "version": 3
   },
   "file_extension": ".py",
   "mimetype": "text/x-python",
   "name": "python",
   "nbconvert_exporter": "python",
   "pygments_lexer": "ipython3",
   "version": "3.10.9"
  },
  "orig_nbformat": 4
 },
 "nbformat": 4,
 "nbformat_minor": 2
}
