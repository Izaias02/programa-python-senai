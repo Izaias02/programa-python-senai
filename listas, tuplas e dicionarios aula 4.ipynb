{
 "cells": [
  {
   "cell_type": "code",
   "execution_count": 10,
   "id": "29be6926",
   "metadata": {},
   "outputs": [
    {
     "name": "stdout",
     "output_type": "stream",
     "text": [
      "<class 'list'>\n",
      "<class 'list'>\n"
     ]
    },
    {
     "data": {
      "text/plain": [
       "['Amanda', 'Ana', 'Bruno', 'Izaias']"
      ]
     },
     "execution_count": 10,
     "metadata": {},
     "output_type": "execute_result"
    }
   ],
   "source": [
    "alunos = ['Amanda', 'Ana', 'Bruno', 'João']\n",
    "notas = [10, 8.5, 7.8, 8.0]\n",
    "\n",
    "alunos[3] # retornar um elemnto da lista\n",
    "\n",
    "# verificando o tipo de dado\n",
    "print(type(alunos))\n",
    "print(type(notas))\n",
    "\n",
    "# adicionar um novo elemneto\n",
    "alunos.append('Izaias')\n",
    "\n",
    "alunos\n",
    "\n",
    "# remover um elemento\n",
    "alunos.remove('João')\n",
    "alunos"
   ]
  },
  {
   "cell_type": "markdown",
   "id": "7d5dab8d",
   "metadata": {},
   "source": [
    "TUPLAS"
   ]
  },
  {
   "cell_type": "code",
   "execution_count": 12,
   "id": "5fe6855a",
   "metadata": {},
   "outputs": [
    {
     "ename": "TypeError",
     "evalue": "'tuple' object does not support item assignment",
     "output_type": "error",
     "traceback": [
      "\u001b[1;31m---------------------------------------------------------------------------\u001b[0m",
      "\u001b[1;31mTypeError\u001b[0m                                 Traceback (most recent call last)",
      "Cell \u001b[1;32mIn[12], line 4\u001b[0m\n\u001b[0;32m      1\u001b[0m valores \u001b[38;5;241m=\u001b[39m (\u001b[38;5;241m90\u001b[39m, \u001b[38;5;241m79\u001b[39m, \u001b[38;5;241m54\u001b[39m, \u001b[38;5;241m32\u001b[39m, \u001b[38;5;241m21\u001b[39m)\n\u001b[0;32m      2\u001b[0m pontos \u001b[38;5;241m=\u001b[39m (\u001b[38;5;241m100\u001b[39m, \u001b[38;5;241m94.85\u001b[39m, \u001b[38;5;241m86.8\u001b[39m, \u001b[38;5;241m62\u001b[39m)\n\u001b[1;32m----> 4\u001b[0m valores[\u001b[38;5;241m1\u001b[39m] \u001b[38;5;241m=\u001b[39m \u001b[38;5;241m25\u001b[39m\n",
      "\u001b[1;31mTypeError\u001b[0m: 'tuple' object does not support item assignment"
     ]
    }
   ],
   "source": [
    "valores = (90, 79, 54, 32, 21)\n",
    "pontos = (100, 94.85, 86.8, 62)\n",
    "\n",
    "valores[1] = 25\n",
    "\n"
   ]
  },
  {
   "cell_type": "markdown",
   "id": "87733e41",
   "metadata": {},
   "source": [
    "tuplas2"
   ]
  },
  {
   "cell_type": "code",
   "execution_count": 14,
   "id": "2d13bbab",
   "metadata": {},
   "outputs": [
    {
     "name": "stdout",
     "output_type": "stream",
     "text": [
      "você não pode modificar uma tupla!\n"
     ]
    }
   ],
   "source": [
    "my_list = [1,2] # criando uma lista\n",
    "my_tuple = (1, 2) #criando uma tupla\n",
    "other_tuple = (3, 4) # criando outra tupla\n",
    "my_list[1] = 3 #substituindo um elemneto de uma lista\n",
    "\n",
    "#tratamento de erro\n",
    "try:\n",
    "    my_tuple[1] = 3\n",
    "except TypeError:\n",
    "    print('você não pode modificar uma tupla!')\n",
    "    "
   ]
  },
  {
   "cell_type": "markdown",
   "id": "db2ee12d",
   "metadata": {},
   "source": [
    "tupla para funções"
   ]
  },
  {
   "cell_type": "code",
   "execution_count": 21,
   "id": "5761c8b4",
   "metadata": {},
   "outputs": [
    {
     "data": {
      "text/plain": [
       "(12, 20)"
      ]
     },
     "execution_count": 21,
     "metadata": {},
     "output_type": "execute_result"
    }
   ],
   "source": [
    "def sum_and_product (x, y):\n",
    "    return ( x + y), (x * y)\n",
    "sum_and_product(10,2)\n"
   ]
  },
  {
   "cell_type": "code",
   "execution_count": 25,
   "id": "cd2ba0bd",
   "metadata": {},
   "outputs": [
    {
     "data": {
      "text/plain": [
       "50"
      ]
     },
     "execution_count": 25,
     "metadata": {},
     "output_type": "execute_result"
    }
   ],
   "source": [
    "s, p = sum_and_product(5, 10)    # s é 15 p é 50\n",
    "p"
   ]
  },
  {
   "cell_type": "markdown",
   "id": "37a14e40",
   "metadata": {},
   "source": [
    "Dicionario"
   ]
  },
  {
   "cell_type": "code",
   "execution_count": 27,
   "id": "017a523d",
   "metadata": {},
   "outputs": [
    {
     "name": "stdout",
     "output_type": "stream",
     "text": [
      "<class 'dict'>\n",
      "<class 'dict'>\n",
      "a altura do joão é: 1.7\n",
      "o peso da ana é:  86\n"
     ]
    }
   ],
   "source": [
    "altura = {'amanda': 1.65, 'ana': 1.60, 'joão': 1.70}\n",
    "peso = {'amanda': 65, 'ana': 86, 'joão': 170}\n",
    "\n",
    "print(type(altura))\n",
    "print(type(peso))\n",
    "\n",
    "print('a altura do joão é:', altura['joão'])\n",
    "print('o peso da ana é: ',peso['ana'])\n"
   ]
  },
  {
   "cell_type": "markdown",
   "id": "0ff75f93",
   "metadata": {},
   "source": [
    "OUTROS EXEMPLOS:"
   ]
  },
  {
   "cell_type": "code",
   "execution_count": 32,
   "id": "c58c7134",
   "metadata": {},
   "outputs": [
    {
     "data": {
      "text/plain": [
       "{'nome': 'tania', 'idade': 35, 'fruta': 'laranja', 'musica': 'forró'}"
      ]
     },
     "execution_count": 32,
     "metadata": {},
     "output_type": "execute_result"
    }
   ],
   "source": [
    "cadastro = {\n",
    "        'nome' : 'tania',\n",
    "        'idade' : 35,\n",
    "        'fruta' : 'uva',\n",
    "        'cor' : 'roxa',\n",
    "        'musica' : 'forró'\n",
    "}\n",
    "cadastro ['fruta'] = 'laranja'\n",
    "\n",
    "del cadastro ['cor']\n",
    "cadastro\n"
   ]
  }
 ],
 "metadata": {
  "kernelspec": {
   "display_name": "Python 3 (ipykernel)",
   "language": "python",
   "name": "python3"
  },
  "language_info": {
   "codemirror_mode": {
    "name": "ipython",
    "version": 3
   },
   "file_extension": ".py",
   "mimetype": "text/x-python",
   "name": "python",
   "nbconvert_exporter": "python",
   "pygments_lexer": "ipython3",
   "version": "3.10.9"
  }
 },
 "nbformat": 4,
 "nbformat_minor": 5
}
