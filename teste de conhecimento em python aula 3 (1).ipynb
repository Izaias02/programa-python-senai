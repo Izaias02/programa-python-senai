{
 "cells": [
  {
   "cell_type": "markdown",
   "id": "3e763cfd",
   "metadata": {},
   "source": [
    "Código 04 - Escreva um programa que solicite ao usuário um número inteiro e verifique se ele é um número perfeito. Um número perfeito é aquele cuja soma dos seus divisores (excluindo ele mesmo) é igual ao próprio número. Por exemplo, 6 é um número perfeito, pois seus divisores são 1, 2 e 3, e 1 + 2 + 3 = 6.\n"
   ]
  },
  {
   "cell_type": "code",
   "execution_count": 9,
   "id": "f70defae",
   "metadata": {},
   "outputs": [
    {
     "name": "stdout",
     "output_type": "stream",
     "text": [
      "digite o valor para verificarse é um numero perfeito.7\n",
      "o numero7 não é um numero perfeito.\n"
     ]
    }
   ],
   "source": [
    "num = int(input('digite o valor para verificarse é um numero perfeito.'))\n",
    "soma_divisores = 1\n",
    "if (num % 2 ) == 0:\n",
    "    soma_divisores = soma_divisores + 2\n",
    "if ( num % 3) == 0:\n",
    "    soma_divisores = soma_divisores + 3\n",
    "if soma_divisores == num:\n",
    "    print(f'o numero {num} é um numero perfeito.')\n",
    "else: \n",
    "    print(f'o numero{num} não é um numero perfeito.')\n"
   ]
  },
  {
   "cell_type": "markdown",
   "id": "a4d0fd3e",
   "metadata": {},
   "source": [
    "Código 07 -  Escreva um programa que solicite ao usuário um número inteiro e verifique se ele é um quadrado perfeito. Um número é considerado um quadrado perfeito quando sua raiz quadrada é um número inteiro."
   ]
  },
  {
   "cell_type": "code",
   "execution_count": 10,
   "id": "32a207b4",
   "metadata": {},
   "outputs": [
    {
     "name": "stdout",
     "output_type": "stream",
     "text": [
      "digite um valor18\n",
      "False\n",
      "este numero não é um quadrado perfeito:\n"
     ]
    },
    {
     "data": {
      "text/plain": [
       "4.242640687119285"
      ]
     },
     "execution_count": 10,
     "metadata": {},
     "output_type": "execute_result"
    }
   ],
   "source": [
    "numero = int(input('digite um valor'))\n",
    "raiz = numero ** 0.5\n",
    "check = raiz.is_integer()\n",
    "print(check)\n",
    "if check == True:\n",
    "        print('este numero é um quadrado perfeito:')\n",
    "else:\n",
    "        print('este numero não é um quadrado perfeito:')\n",
    "raiz\n",
    "\n",
    "# para importar a raiz quadrada de um numero utilizar a biblioteca raiz = math.sqrt(num)"
   ]
  },
  {
   "cell_type": "markdown",
   "id": "4b8faebc",
   "metadata": {},
   "source": [
    "Código 10 - Faça um programa para o cálculo de uma folha de pagamento, sabendo que os descontos são do Imposto de Renda, que depende do salário bruto (conforme tabela abaixo) e 3% para o Sindicato e que o FGTS corresponde a 11% do Salário Bruto, mas não é descontado (é a empresa que deposita). O Salário Líquido corresponde ao Salário Bruto menos os descontos. O programa deverá pedir ao usuário o valor da sua hora e a quantidade de horas trabalhadas no mês.\n",
    "Desconto do IR:\n",
    "\n",
    "·        Salário Bruto até 900 (inclusive) – isento\n",
    "\n",
    "·        Salário Bruto até 1500 (inclusive) - desconto de 5%\n",
    "\n",
    "·        Salário Bruto até 2500 (inclusive) - desconto de 10%\n",
    "\n",
    "·        Salário Bruto acima de 2500 - desconto de 20% "
   ]
  },
  {
   "cell_type": "code",
   "execution_count": 11,
   "id": "cea1295b",
   "metadata": {},
   "outputs": [
    {
     "name": "stdout",
     "output_type": "stream",
     "text": [
      "digite o valor da hora:54\n",
      "digite a quantidade de horas trabalhadas:44\n",
      "deve pagar 10% e o valor do salario de R%:2376.0\n"
     ]
    }
   ],
   "source": [
    "valor = float(input('digite o valor da hora:'))\n",
    "horas = float(input('digite a quantidade de horas trabalhadas:'))\n",
    "salario = valor * horas\n",
    "\n",
    "if valor * horas <= 900:\n",
    "    print(f'isento e o valor do salario é R$: {salario}')\n",
    "elif salario <= 1500:\n",
    "    desconto = 0.05\n",
    "    print(f'deve pagar 5% e o valor do salario de R%:{salario}')\n",
    "elif salario <= 2500:\n",
    "    desconto = 0.1\n",
    "    print(f'deve pagar 10% e o valor do salario de R%:{salario}')\n",
    "else:\n",
    "    desconto = 0.2\n",
    "    print(f'deve pagar 20% e o valor do salario de R%:{salario}')\n",
    "    "
   ]
  },
  {
   "cell_type": "markdown",
   "id": "b9ba8a7c",
   "metadata": {},
   "source": [
    "Código 01 - Escreva um programa que solicite ao usuário um número inteiro e verifique se ele é um número positivo. Em seguida, exiba a mensagem correspondente.\n"
   ]
  },
  {
   "cell_type": "code",
   "execution_count": 12,
   "id": "af3cbcf0",
   "metadata": {},
   "outputs": [
    {
     "name": "stdout",
     "output_type": "stream",
     "text": [
      "digite um numero:8\n",
      "este numero é positivo\n"
     ]
    }
   ],
   "source": [
    "numero = int(input('digite um numero:'))\n",
    "if numero > 0:\n",
    "    print('este numero é positivo')\n",
    "elif numero == 0:\n",
    "    print('este numero é nulo.')\n",
    "else:\n",
    "    print('este numero é negativo')"
   ]
  },
  {
   "cell_type": "markdown",
   "id": "772de297",
   "metadata": {},
   "source": [
    "Código 03 -  Escreva um programa que solicite ao usuário a idade de uma pessoa e verifique se ela é maior de idade (idade igual ou superior a 18) e se possui carteira de motorista. Em seguida, exiba a mensagem correspondente."
   ]
  },
  {
   "cell_type": "code",
   "execution_count": 16,
   "id": "5a72f947",
   "metadata": {},
   "outputs": [
    {
     "name": "stdout",
     "output_type": "stream",
     "text": [
      "digite sua idade:25\n",
      "este usuario é maior de idade:\n",
      "você esta autorizado a dar inicio ao processo de habilitação\n"
     ]
    }
   ],
   "source": [
    "idade = int(input('digite sua idade:'))\n",
    "if idade >= 18:\n",
    "    print('este usuario é maior de idade:')\n",
    "    print('você esta autorizado a dar inicio ao processo de habilitação')\n",
    "else:\n",
    "    print('este usuario é menor de idade e não pode dar inicio ao processo de habilitação')\n",
    "    "
   ]
  },
  {
   "cell_type": "markdown",
   "id": "3acc19a1",
   "metadata": {},
   "source": [
    "Código 08 - Faça um Programa que leia três números e mostre o maior e o menor deles."
   ]
  },
  {
   "cell_type": "code",
   "execution_count": 15,
   "id": "aa791a45",
   "metadata": {},
   "outputs": [
    {
     "name": "stdout",
     "output_type": "stream",
     "text": [
      "digite o primeiro valor:54\n",
      "digite o segundo valor36\n",
      "digite o terceiro valor44\n",
      "54 44 36\n",
      "o maior numero entre eles é o:54\n",
      "o menor numero entre eles é o:36\n"
     ]
    }
   ],
   "source": [
    "num1 = int(input('digite o primeiro valor:'))\n",
    "num2 = int(input('digite o segundo valor'))\n",
    "num3 = int(input('digite o terceiro valor'))\n",
    "\n",
    "if num1 > num2 and num1 > num3:\n",
    "      if num3 > num2:\n",
    "        print(num1, num3, num2)\n",
    "        print(f'o maior numero entre eles é o:{num1}')\n",
    "        print(f'o menor numero entre eles é o:{num2}')\n",
    "elif num2 > num1 and num2 > num3:\n",
    "     if num1 > num3:\n",
    "        print(num2, num1, num3)\n",
    "        print(f'o maior numero entre eles é o:{num2}')\n",
    "        print(f'o menor numnero entre eles é o:{num3}')\n",
    "elif num3 > num2 and num3 > num1:\n",
    "     if num1 > num2:\n",
    "        print(num3, num1, num2)\n",
    "        print(f'o maior numero entre eles é o:{num3}')\n",
    "        print(f'o menor numnero entre eles é o:{num2}')\n",
    "else:\n",
    "        print(num3, num2, num1)\n",
    "        print(f'o maior numero entre eles é o:{num3}')\n",
    "        print(f'o menor numnero entre eles é o:{num1}')\n",
    "          \n",
    "\n",
    "    "
   ]
  },
  {
   "cell_type": "markdown",
   "id": "1aa86fb1",
   "metadata": {},
   "source": [
    "Código 05 -  Escreva um programa que solicite ao usuário um número inteiro e verifique se ele é um número primo. Em seguida, exiba a mensagem correspondente. (Reutilize a questão anterior ou elabore um código diferente)."
   ]
  },
  {
   "cell_type": "code",
   "execution_count": 13,
   "id": "997a8aa1",
   "metadata": {},
   "outputs": [
    {
     "name": "stdout",
     "output_type": "stream",
     "text": [
      "digite um numero inteiro18\n",
      "não é um numero primo\n"
     ]
    }
   ],
   "source": [
    "num = int(input('digite um numero inteiro'))\n",
    "\n",
    "if num == 2:\n",
    "    print(f'o numero {num}, é um número primo.')\n",
    "elif (num % 1 == 0 and num % num == 0) and num % 2 != 0 and num > 1:\n",
    "    print('primo')\n",
    "else:\n",
    "    print('não é um numero primo')\n",
    "    "
   ]
  },
  {
   "cell_type": "markdown",
   "id": "02833cb5",
   "metadata": {},
   "source": [
    "Código 06 -  Escreva um programa que solicite ao usuário o nome de um mês e verifique se ele corresponde a um mês de verão (dezembro, janeiro ou fevereiro). Em seguida, exiba a mensagem correspondente.\n",
    "*\n"
   ]
  },
  {
   "cell_type": "code",
   "execution_count": 18,
   "id": "f0ea27d6",
   "metadata": {},
   "outputs": [
    {
     "name": "stdout",
     "output_type": "stream",
     "text": [
      "digite o nome do mes ( exemplo: jan, fev, mar...)jan\n",
      "verão\n"
     ]
    }
   ],
   "source": [
    "mes = input('digite o nome do mes ( exemplo: jan, fev, mar...)')\n",
    "mes = mes.lower() # converter um string em minusculo\n",
    "\n",
    "if mes == 'dez' or mes == 'jan' or mes == 'fev':\n",
    "    print('verão')\n",
    "else:\n",
    "    print('mes invalido')"
   ]
  },
  {
   "cell_type": "markdown",
   "id": "74ffcb64",
   "metadata": {},
   "source": [
    "Código 09 - Faça um Programa que leia 2 números e em seguida pergunte ao usuário qual operação ele deseja realizar. O resultado da operação deve ser acompanhado de uma frase que diga se o número é:\n",
    "·        par ou ímpar;\n",
    "\n",
    "·        positivo ou negativo;\n",
    "\n",
    "·        inteiro ou decimal."
   ]
  },
  {
   "cell_type": "code",
   "execution_count": 22,
   "id": "e0349380",
   "metadata": {},
   "outputs": [
    {
     "name": "stdout",
     "output_type": "stream",
     "text": [
      "digite o primeiro valor:47\n",
      "digite o segundo valor59\n",
      "digite qual operação deseja fazer:m\n"
     ]
    }
   ],
   "source": [
    "num1 = int(input('digite o primeiro valor:'))\n",
    "num2 = int(input('digite o segundo valor'))\n",
    "operação = input('digite qual operação deseja fazer:')\n",
    "operação = ['a', 's', 'd', 'm']\n",
    "\n",
    "a = num1 + num2\n",
    "s = num1 - num2\n",
    "d = num1 / num2\n",
    "m = num1 * num2\n",
    "if num1 + num2 >= 0 and num1 - num2 >= 0 and num1 / num2 >= 0 and num1 * num2 >= 0:\n",
    "    print('este numero é positivo')\n",
    "else:\n",
    "    ('este numero é negativo:')\n",
    "    "
   ]
  }
 ],
 "metadata": {
  "kernelspec": {
   "display_name": "Python 3 (ipykernel)",
   "language": "python",
   "name": "python3"
  },
  "language_info": {
   "codemirror_mode": {
    "name": "ipython",
    "version": 3
   },
   "file_extension": ".py",
   "mimetype": "text/x-python",
   "name": "python",
   "nbconvert_exporter": "python",
   "pygments_lexer": "ipython3",
   "version": "3.10.9"
  }
 },
 "nbformat": 4,
 "nbformat_minor": 5
}
