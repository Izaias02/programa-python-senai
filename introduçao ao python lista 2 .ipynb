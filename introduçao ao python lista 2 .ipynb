{
 "cells": [
  {
   "cell_type": "markdown",
   "id": "b45d356e",
   "metadata": {},
   "source": [
    "Exercício 01 – Crie uma variável chamada \"idade\" e atribua um valor inteiro a ela.\n",
    "Verifique se a idade é maior ou igual a 18 e imprima \"Maior de idade\" ou \"Menor de\n",
    "idade\" de acordo com a condição."
   ]
  },
  {
   "cell_type": "code",
   "execution_count": null,
   "id": "46244a54",
   "metadata": {},
   "outputs": [],
   "source": [
    "idade = input(' informe sua idade:')\n",
    "idade = int(idade)\n",
    "if idade < 18 :\n",
    "    print('menor de idade')\n",
    "else : \n",
    "    print('maior de idade')"
   ]
  },
  {
   "cell_type": "markdown",
   "id": "98cdf359",
   "metadata": {},
   "source": [
    "Exercício 02 - Crie uma variável chamada \"número\" e atribua um valor inteiro a ela.\n",
    "Verifique se o número é positivo, negativo ou zero e imprima a mensagem\n",
    "correspondente."
   ]
  },
  {
   "cell_type": "code",
   "execution_count": null,
   "id": "6cbfce0a",
   "metadata": {},
   "outputs": [],
   "source": [
    "numero = input('informe o numero inteiro:')\n",
    "numero = int(numero)\n",
    "if numero > 0 :\n",
    "    print('numero positivo ')\n",
    "elif numero < 0 :\n",
    "    print('numero negativo ')\n",
    "else:\n",
    "    print('nulo')\n",
    "\n",
    "\n",
    "    "
   ]
  },
  {
   "cell_type": "markdown",
   "id": "6083114a",
   "metadata": {},
   "source": [
    "Exercício 03 - Crie duas variáveis, \"nota1\" e \"nota2\", e atribua valores numéricos a elas.\n",
    "Verifique se a média das notas é maior ou igual a 7 e imprima \"Aprovado\" ou\n",
    "\"Reprovado\" de acordo com a condição."
   ]
  },
  {
   "cell_type": "code",
   "execution_count": null,
   "id": "918cc703",
   "metadata": {},
   "outputs": [],
   "source": [
    "nota1 = input('digite a primeira nota ')\n",
    "nota1 = float(nota1)\n",
    "\n",
    "nota2 = input('digite a segunda nota')\n",
    "nota2 = float(nota2)\n",
    "\n",
    "media = (nota1 + nota2) / 2\n",
    "\n",
    "if media >= 7:\n",
    "    print(f'aprovado! sua media foi de : {media}, parabens!')\n",
    "else :\n",
    "    print(f'reprovado! sua media foi de: {media}, you lose')\n",
    "    \n"
   ]
  },
  {
   "cell_type": "markdown",
   "id": "205a468e",
   "metadata": {},
   "source": [
    "Exercício 04 - Crie uma variável chamada \"idade\" e atribua um valor inteiro a ela.\n",
    "Verifique se a idade está dentro do intervalo de 18 a 30 (inclusive) e imprima a\n",
    "mensagem \"Idade válida\" ou \"Idade inválida\" de acordo com a condição."
   ]
  },
  {
   "cell_type": "code",
   "execution_count": null,
   "id": "de4c89fb",
   "metadata": {},
   "outputs": [],
   "source": [
    "idade = int(input('digite sua idade'))\n",
    "\n",
    "if idade >=18 and idade<=30:\n",
    "    print('idade valida')\n",
    "else:\n",
    "    print('idade invalida')\n",
    "    "
   ]
  },
  {
   "cell_type": "markdown",
   "id": "154636e1",
   "metadata": {},
   "source": [
    "Exercício 05 - Crie uma variável chamada \"numero\" e atribua um valor inteiro a ela.\n",
    "Verifique se o número é par ou ímpar e imprima a mensagem correspondente."
   ]
  },
  {
   "cell_type": "code",
   "execution_count": null,
   "id": "41e0eed4",
   "metadata": {},
   "outputs": [],
   "source": [
    "numero = int(input(\"digite um numero inteiro:\"))\n",
    "\n",
    "if numero % 2 == 0 :\n",
    "    print('par')\n",
    "else:\n",
    "    print('impar')\n",
    "    "
   ]
  },
  {
   "cell_type": "markdown",
   "id": "44f57091",
   "metadata": {},
   "source": [
    "Exercício 06 - Crie uma variável chamada \"horario\" e atribua um valor inteiro\n",
    "representando a hora do dia (em formato 24 horas). Verifique se o horário está dentro\n",
    "do período da manhã (das 6h às 12h), da tarde (das 12h às 18h) ou da noite (das 18h\n",
    "às 23h) e imprima a mensagem correspondente."
   ]
  },
  {
   "cell_type": "code",
   "execution_count": null,
   "id": "ef86c67d",
   "metadata": {},
   "outputs": [],
   "source": [
    "horario = int(input('digite a hora do dia:'))\n",
    "\n",
    "if horario >= 24:\n",
    "    horario = horario - 24\n",
    "\n",
    "if horario >= 6 and horario <12:\n",
    "    print(f'periodo manha e a hora exata é: {horario} horas')\n",
    "elif horario >= 12 and horario < 18:\n",
    "    print(f'periodo tarde e a hora exata é: {horario} horas')\n",
    "elif horario >= 18 and horario <= 23:\n",
    "    print(f'perido noite e a hora exata é: {horario} horas')\n",
    "else:\n",
    "    print(f'peridodo madrugada,sem expediente e a hora exata é: {horario} horas')\n",
    "          "
   ]
  },
  {
   "cell_type": "markdown",
   "id": "7e4d0911",
   "metadata": {},
   "source": [
    "Exercício 07 - Crie uma variável chamada \"peso\" e atribua um valor numérico a ela.\n",
    "Verifique se o peso está dentro do intervalo de 50 a 100 (inclusive) e imprima a\n",
    "mensagem \"Peso válido\" ou \"Peso inválido\" de acordo com a condição."
   ]
  },
  {
   "cell_type": "code",
   "execution_count": null,
   "id": "35cf07e0",
   "metadata": {},
   "outputs": [],
   "source": [
    "peso = float(input( ' digite o peso medido:'))\n",
    "\n",
    "if peso >= 50 and peso <=100:\n",
    "    print(f'peso valido e o valor do peso é:{peso}')\n",
    "\n",
    "elif peso < 50:\n",
    "    print('peso invalido abaixo do valor exigido de 50 kilos')\n",
    "else:\n",
    "    print('peso invalido por estar aciam do valor exigido de 100 kilos')"
   ]
  },
  {
   "cell_type": "markdown",
   "id": "f867ec20",
   "metadata": {},
   "source": [
    "Exercício 08 - Crie uma variável chamada \"numero\" e atribua um valor inteiro a ela.\n",
    "Verifique se o número é múltiplo de 3 e de 5 ao mesmo tempo e imprima a mensagem\n",
    "correspondente."
   ]
  },
  {
   "cell_type": "code",
   "execution_count": null,
   "id": "cf593a26",
   "metadata": {},
   "outputs": [],
   "source": [
    "numero = int(input('digite um numero inteiro'))\n",
    "if (numero % 3 == 0) and (numero % 5 == 0):\n",
    "    print(f'o numero {numero} é multiplo de 3 e 5 ao mesmo tempo: ')\n",
    "else:\n",
    "    print(f'o numero {numero} não é multiplo de 3 e 5 ao mesmo tempo:')\n",
    "    "
   ]
  },
  {
   "cell_type": "markdown",
   "id": "c9d04ce6",
   "metadata": {},
   "source": [
    "Exercício 09 - Crie uma variável chamada \"ano\" e atribua um valor inteiro\n",
    "representando um ano. Verifique se o ano é bissexto (divisível por 4, mas não por 100,\n",
    "exceto se for divisível por 400) e imprima a mensagem correspondente."
   ]
  },
  {
   "cell_type": "code",
   "execution_count": null,
   "id": "a9143119",
   "metadata": {},
   "outputs": [],
   "source": [
    "ano = int(input('digite um ano:'))\n",
    "if (ano % 4 == 0 and ano % 100 != 0 ) or (ano % 400 == 0):\n",
    "    print(f'este ano é bissexto e o ano é: {ano}')\n",
    "else:\n",
    "        print(f'este ano não é bissexto e o ano é:{ano}')\n",
    "              "
   ]
  },
  {
   "cell_type": "markdown",
   "id": "a5ef937d",
   "metadata": {},
   "source": [
    "Exercício 10 - Crie uma variável chamada \"salario\" e atribua um valor numérico a ela.\n",
    "Verifique se o salário é maior do que 1000 e menor do que 2000 ao mesmo tempo e\n",
    "imprima a mensagem correspondente."
   ]
  },
  {
   "cell_type": "code",
   "execution_count": null,
   "id": "e5ef9697",
   "metadata": {},
   "outputs": [],
   "source": [
    "salario = int(input('digite o valor do salario'))\n",
    "if (salario > 1000 and salario < 2000):\n",
    "    print(f'salario esta dentro dos parametros: e o salario é de : {salario}')\n",
    "else:\n",
    "    print(f'salario esta fora dos parametros estabelecidos e o salario é de : {salario}')\n",
    "    "
   ]
  },
  {
   "cell_type": "markdown",
   "id": "cb9cb51b",
   "metadata": {},
   "source": [
    "Exercício 11 - Faça um Programa que peça dois números e imprima o maior deles."
   ]
  },
  {
   "cell_type": "code",
   "execution_count": null,
   "id": "b598a262",
   "metadata": {},
   "outputs": [],
   "source": [
    "numero1 = int(input('digite o numero'))\n",
    "numero2 = int(input('digite o numero'))\n",
    "\n",
    "if numero1 > numero2:\n",
    "    print(f'o numero {numero1} é maior que o numero {numero2}')\n",
    "else:\n",
    "    print(f'o numero {numero2} é maior que o numero {numero1}')\n",
    "    "
   ]
  },
  {
   "cell_type": "markdown",
   "id": "48aeac0e",
   "metadata": {},
   "source": [
    "Exercício 12 - Faça um Programa que peça um valor e mostre na tela se o valor é\n",
    "positivo ou negativo."
   ]
  },
  {
   "cell_type": "code",
   "execution_count": null,
   "id": "7a7019af",
   "metadata": {},
   "outputs": [],
   "source": [
    "numero = int(input(\"digite um numero\"))\n",
    "\n",
    "if numero >= 0:\n",
    "    print(f'{numero} este numero é positivo')\n",
    "else:\n",
    "    print(f'{numero} este numero é negativo')\n",
    "    "
   ]
  },
  {
   "cell_type": "markdown",
   "id": "4658897b",
   "metadata": {},
   "source": [
    "Exercício 13 - Faça um Programa que verifique se uma letra digitada é \"F\" ou \"M\".\n",
    "Conforme a letra escrever: F - Feminino, M - Masculino, Sexo Inválido."
   ]
  },
  {
   "cell_type": "code",
   "execution_count": 21,
   "id": "3d957941",
   "metadata": {},
   "outputs": [
    {
     "name": "stdout",
     "output_type": "stream",
     "text": [
      "digite a respectiva letram\n"
     ]
    },
    {
     "ename": "ValueError",
     "evalue": "invalid literal for int() with base 10: 'm'",
     "output_type": "error",
     "traceback": [
      "\u001b[1;31m---------------------------------------------------------------------------\u001b[0m",
      "\u001b[1;31mValueError\u001b[0m                                Traceback (most recent call last)",
      "Cell \u001b[1;32mIn[21], line 1\u001b[0m\n\u001b[1;32m----> 1\u001b[0m letra \u001b[38;5;241m=\u001b[39m \u001b[38;5;28;43mint\u001b[39;49m\u001b[43m \u001b[49m\u001b[43m(\u001b[49m\u001b[38;5;28;43minput\u001b[39;49m\u001b[43m(\u001b[49m\u001b[38;5;124;43m'\u001b[39;49m\u001b[38;5;124;43mdigite a respectiva letra\u001b[39;49m\u001b[38;5;124;43m'\u001b[39;49m\u001b[43m)\u001b[49m\u001b[43m)\u001b[49m\n\u001b[0;32m      4\u001b[0m \u001b[38;5;28;01mif\u001b[39;00m letra \u001b[38;5;241m==\u001b[39m m:\n\u001b[0;32m      5\u001b[0m     \u001b[38;5;28mprint\u001b[39m(\u001b[38;5;124m'\u001b[39m\u001b[38;5;124msexo masculino\u001b[39m\u001b[38;5;124m'\u001b[39m)\n",
      "\u001b[1;31mValueError\u001b[0m: invalid literal for int() with base 10: 'm'"
     ]
    }
   ],
   "source": [
    "letra = int(input('digite a respectiva letra'))\n",
    "\n",
    "\n",
    "if letra == m:\n",
    "    print('sexo masculino')\n",
    "elif letra == f:\n",
    "    print('sexo feminino')\n",
    "else:\n",
    "    print('sexo invalido')\n",
    "    "
   ]
  },
  {
   "cell_type": "markdown",
   "id": "d3b33d46",
   "metadata": {},
   "source": [
    "Exercício 14 - Faça um Programa que verifique se uma letra digitada é vogal ou\n",
    "consoante."
   ]
  },
  {
   "cell_type": "code",
   "execution_count": 22,
   "id": "3c554ae7",
   "metadata": {},
   "outputs": [
    {
     "ename": "SyntaxError",
     "evalue": "invalid syntax. Maybe you meant '==' or ':=' instead of '='? (598953386.py, line 2)",
     "output_type": "error",
     "traceback": [
      "\u001b[1;36m  Cell \u001b[1;32mIn[22], line 2\u001b[1;36m\u001b[0m\n\u001b[1;33m    if letra = a or letra = e or letra = i or letra = o or letra u == letra:\u001b[0m\n\u001b[1;37m       ^\u001b[0m\n\u001b[1;31mSyntaxError\u001b[0m\u001b[1;31m:\u001b[0m invalid syntax. Maybe you meant '==' or ':=' instead of '='?\n"
     ]
    }
   ],
   "source": [
    "letra = int(input('digite uma letra'))\n",
    "if letra = a or letra = e or letra = i or letra = o or letra u == letra:\n",
    "    print('esta letra é uma vogal')\n",
    "else:\n",
    "    print('esta letra é uma consoante')\n",
    "    "
   ]
  }
 ],
 "metadata": {
  "kernelspec": {
   "display_name": "Python 3 (ipykernel)",
   "language": "python",
   "name": "python3"
  },
  "language_info": {
   "codemirror_mode": {
    "name": "ipython",
    "version": 3
   },
   "file_extension": ".py",
   "mimetype": "text/x-python",
   "name": "python",
   "nbconvert_exporter": "python",
   "pygments_lexer": "ipython3",
   "version": "3.10.9"
  }
 },
 "nbformat": 4,
 "nbformat_minor": 5
}
