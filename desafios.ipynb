{
 "cells": [
  {
   "cell_type": "markdown",
   "metadata": {},
   "source": [
    "Desafio 01 - Escreva uma função Python para somar todos os números em uma \n",
    "lista.\n",
    "• Lista de amostra: (8, 2, 3, 0, 7)\n",
    "• Saída esperada: 20"
   ]
  },
  {
   "cell_type": "code",
   "execution_count": 6,
   "metadata": {},
   "outputs": [
    {
     "data": {
      "text/plain": [
       "20"
      ]
     },
     "execution_count": 6,
     "metadata": {},
     "output_type": "execute_result"
    }
   ],
   "source": [
    "def somar_listas(lista):\n",
    "    \n",
    "    soma = 0\n",
    "\n",
    "    for x in lista:\n",
    "        soma += x\n",
    "\n",
    "    return soma\n",
    "    print(f'a soma dos elementos é:{soma}')   \n",
    "\n",
    "list = [8, 2, 3, 0, 7]\n",
    "\n",
    "somar_listas(list)"
   ]
  },
  {
   "cell_type": "markdown",
   "metadata": {},
   "source": []
  }
 ],
 "metadata": {
  "kernelspec": {
   "display_name": "base",
   "language": "python",
   "name": "python3"
  },
  "language_info": {
   "codemirror_mode": {
    "name": "ipython",
    "version": 3
   },
   "file_extension": ".py",
   "mimetype": "text/x-python",
   "name": "python",
   "nbconvert_exporter": "python",
   "pygments_lexer": "ipython3",
   "version": "3.10.9"
  },
  "orig_nbformat": 4
 },
 "nbformat": 4,
 "nbformat_minor": 2
}
