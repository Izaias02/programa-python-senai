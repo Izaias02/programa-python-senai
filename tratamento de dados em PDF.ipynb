{
 "cells": [
  {
   "cell_type": "code",
   "execution_count": 47,
   "metadata": {},
   "outputs": [
    {
     "name": "stdout",
     "output_type": "stream",
     "text": [
      "['Gastos  Valor  ', 'Luz 150,00  ', 'Água  68,50  ', 'Alimentação  650,00  ', 'Lazer  480,00  ', 'Educação  1500,00  ', 'Esporte  145,00  ']\n"
     ]
    }
   ],
   "source": [
    "\n",
    "import PyPDF2 as pdf\n",
    "import openpyxl as xl\n",
    "import os\n",
    "\n",
    "caminho = 'C:\\\\Users\\\\FIC\\\\Documents\\\\izaias python\\\\'\n",
    "arquivo = 'gastos.pdf'\n",
    "\n",
    "pdf_file = open(caminho + arquivo, 'rb')\n",
    "\n",
    "# a biblioteca está lendo o documento\n",
    "read_pdf = pdf.PdfReader(pdf_file)\n",
    "\n",
    "# número de paginas existentes no arquivo em pdf\n",
    "\n",
    "number_of_pages = len(read_pdf.pages)\n",
    "\n",
    "page = read_pdf.pages[0]\n",
    "\n",
    "# extrair o texto da pagina\n",
    "\n",
    "page_content = page.extract_text()\n",
    "# tratamento dos dados\n",
    "\n",
    "parsed = page_content.splitlines()\n",
    "parsed.remove(' ')\n",
    "\n",
    "print(parsed)\n",
    "# conveter a lista em string\n",
    "\n",
    "texto = '/'.join(parsed)    #converte uma lista em string separando os elementos por '/'.\n",
    "\n",
    "texto = texto.replace(',', '.')\n",
    "\n",
    "texto = texto.replace('  /', ',')\n",
    "\n",
    "texto = texto.replace('  ', ' ')\n",
    "\n",
    "texto = texto.replace(',', '/')\n",
    "\n",
    "texto = texto.replace(', ', ',')\n",
    "\n",
    "texto = texto.replace(' ',',')\n",
    "\n",
    "\n",
    "\n",
    "parsed = texto.split('/')           # converter como lista \n",
    "\n",
    "\n",
    "# ------------------- converter os elementos da lista parsed em sub-listas -------------------------\n",
    "# -------------------incluir na lista dados ---------------------------------\n",
    "\n",
    "lista_dados = []\n",
    "\n",
    "for i in range(0,len(parsed)):          # len define o tamanho da lista(quantidade de elementos)\n",
    "    lista_dados.append([parsed[i]])     # ou retirar os colchetes antes de parsed e após o [i] acrescentar .split\n",
    "\n",
    "lista = []\n",
    "i = 0\n",
    "\n",
    "for x in lista_dados:\n",
    "    a = ','.join(lista_dados[i])\n",
    "    lista.append(a.split(','))\n",
    "    i += 1 \n",
    "\n",
    "wb = xl.Workbook()\n",
    "ws = wb.active\n",
    "\n",
    "for row in lista:\n",
    "    ws.append(row)\n",
    "   \n",
    "\n",
    "\n",
    "wb.save(filename='teste.xlsx')\n"
   ]
  },
  {
   "cell_type": "code",
   "execution_count": 49,
   "metadata": {},
   "outputs": [
    {
     "name": "stdout",
     "output_type": "stream",
     "text": [
      "['NIF NOME  IDADE  UF (Origem)  ', 'sn10259  Jorge Moreira  45 SP ', 'sn74855  Brun a Nogueira  24 BA ', 'sn97849  Luiza Magalhães  41 MA ', 'sn97412 Clarivaldo Rêgo  74 SP ', 'sn79872  Jedai da Silva  19 SP ', 'sn27893  Edineia Jureia  35 PA ', 'sn76412  Florisfonso Melo Rêgo  52 AM ', ' ']\n"
     ]
    }
   ],
   "source": [
    "import openpyxl as xl\n",
    "import PyPDF2 as pdf\n",
    "import os\n",
    "\n",
    "caminho = 'C:\\\\Users\\\\FIC\\\\Documents\\\\izaias python\\\\'\n",
    "arquivo = 'Funcionarios.pdf'\n",
    "pdf_file = open(caminho + arquivo,'rb')\n",
    "\n",
    "read_pdf = pdf.PdfReader(pdf_file)\n",
    "\n",
    "number_of_pages = len(read_pdf.pages)\n",
    "\n",
    "page = read_pdf.pages[0]\n",
    "\n",
    "page_content = page.extract_text()\n",
    "\n",
    "extra = page_content.splitlines()\n",
    "\n",
    "# ----- tratamento de dados \n",
    "frase = texto.replace\n",
    "\n",
    "\n",
    "\n",
    "#extra = texto.split()\n",
    "\n",
    "\n",
    "print(extra)\n",
    "\n",
    "wb = xl.Workbook()\n",
    "ws = wb.active\n",
    "wb.save(filename='exercicio funcionarios.xlsx')\n"
   ]
  },
  {
   "cell_type": "code",
   "execution_count": null,
   "metadata": {},
   "outputs": [],
   "source": [
    "!pip install PyPDF2    \n"
   ]
  }
 ],
 "metadata": {
  "kernelspec": {
   "display_name": "base",
   "language": "python",
   "name": "python3"
  },
  "language_info": {
   "codemirror_mode": {
    "name": "ipython",
    "version": 3
   },
   "file_extension": ".py",
   "mimetype": "text/x-python",
   "name": "python",
   "nbconvert_exporter": "python",
   "pygments_lexer": "ipython3",
   "version": "3.10.9"
  },
  "orig_nbformat": 4
 },
 "nbformat": 4,
 "nbformat_minor": 2
}
