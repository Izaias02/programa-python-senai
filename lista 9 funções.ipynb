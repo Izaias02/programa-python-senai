{
 "cells": [
  {
   "cell_type": "markdown",
   "metadata": {},
   "source": [
    "Exercício 01. Faça uma função que recebe por parâmetro o raio de uma esfera e calcula o \n",
    "seu volume (v = 4/3.P .R3\n",
    ")."
   ]
  },
  {
   "cell_type": "code",
   "execution_count": 32,
   "metadata": {},
   "outputs": [
    {
     "data": {
      "text/plain": [
       "4188.790204786391"
      ]
     },
     "execution_count": 32,
     "metadata": {},
     "output_type": "execute_result"
    }
   ],
   "source": [
    "import numpy as np\n",
    "def volume_esfera(raio):\n",
    "    pi = np.pi \n",
    "    volume = 4/3 * pi * raio **3\n",
    "    return volume \n",
    "volume_esfera(10)\n"
   ]
  },
  {
   "cell_type": "markdown",
   "metadata": {},
   "source": [
    "Exercício 02. Escreva um procedimento que recebe as 3 notas de um aluno por parâmetro \n",
    "e uma letra. Se a letra for A o procedimento calcula a média aritmética das notas do aluno, \n",
    "se for P, a sua média ponderada (pesos: 5, 3 e 2) e se for H, a sua média harmônica. A \n",
    "média calculada também deve retornar por parâmetro."
   ]
  },
  {
   "cell_type": "code",
   "execution_count": 33,
   "metadata": {},
   "outputs": [
    {
     "name": "stdout",
     "output_type": "stream",
     "text": [
      "resultado da função média fina 7.058823529411764\n",
      "resultado da função média atitmedica 7.666666666666667\n",
      "resultado da função média ponderada 8.4\n",
      "resultado da função média harmonica 7.058823529411764\n"
     ]
    }
   ],
   "source": [
    "import numpy as np \n",
    "\n",
    "def media_aritmetica (num1, num2, num3):\n",
    "    soma = num1 + num2 + num3\n",
    "    media = soma / 3 \n",
    "\n",
    "    return media\n",
    "\n",
    "def media_ponderada (num1, num2, num3):\n",
    "    soma = num1*5 + num2*3 + num3*2\n",
    "    media = soma / 10 \n",
    "    return media\n",
    "\n",
    "def media_harmonica (num1, num2, num3):\n",
    "    qtdtermos = 3\n",
    "    soma = (1/num1 + 1/num2 + 1/num3)\n",
    "\n",
    "    media = qtdtermos / soma\n",
    "\n",
    "    return media \n",
    "\n",
    "def media_final(num1, num2, num3, tipo):\n",
    "\n",
    "    if tipo.upper() == 'A':\n",
    "        return media_aritmetica (num1, num2, num3)\n",
    "\n",
    "    elif tipo.upper() == 'P':\n",
    "        return media_ponderada (num1, num2, num3)\n",
    "    \n",
    "    elif tipo.upper() == \"H\":\n",
    "        return media_harmonica (num1, num2, num3)\n",
    "\n",
    "\n",
    "        \n",
    "\n",
    "media_final(10,8,5,'A')\n",
    "\n",
    "print('resultado da função média fina', media_final(10,8,5,'h'))\n",
    "\n",
    "\n",
    "print('resultado da função média atitmedica', media_aritmetica (10,8,5))\n",
    "\n",
    "print('resultado da função média ponderada', media_ponderada(10,8,5))\n",
    "\n",
    "print('resultado da função média harmonica', media_harmonica(10,8,5))\n",
    "\n",
    "\n",
    "\n",
    "\n",
    "\n"
   ]
  },
  {
   "cell_type": "markdown",
   "metadata": {},
   "source": []
  },
  {
   "cell_type": "code",
   "execution_count": 59,
   "metadata": {},
   "outputs": [
    {
     "name": "stdout",
     "output_type": "stream",
     "text": [
      "O valor de seus rendimentos e R$  1610.0\n"
     ]
    }
   ],
   "source": [
    "def calcular_pagamento (qtde_horas, valor_hora):\n",
    "    horas = float(qtde_horas)\n",
    "    valorHora = float (valor_hora)\n",
    "\n",
    "    if horas <= 40:\n",
    "        salario = horas * valorHora\n",
    "    else:\n",
    "        h_execed = horas - 40\n",
    "        salario = 40 * valorHora + (h_execed * 1.5 * valorHora) \n",
    "    \n",
    "    return salario\n",
    "\n",
    "str_horas = input('Digite as horas trabalhadas: ')\n",
    "str_valor_hora = input('Digite o valor por hora: ')\n",
    "\n",
    "salario_total = calcular_pagamento(qtde_horas = str_horas, valor_hora = str_valor_hora)\n",
    "print('O valor de seus rendimentos e R$ ', salario_total)"
   ]
  },
  {
   "cell_type": "markdown",
   "metadata": {},
   "source": [
    "Exercício 08. Faça um procedimento que recebe a idade de um nadador por parâmetro e \n",
    "retorna, também por parâmetro, a categoria desse nadador de acordo com a tabela abaixo:"
   ]
  },
  {
   "cell_type": "code",
   "execution_count": null,
   "metadata": {},
   "outputs": [
    {
     "name": "stdout",
     "output_type": "stream",
     "text": [
      "a idade do nadador é:14 e sua categoria é: juvenil b\n"
     ]
    }
   ],
   "source": [
    "def categoria(idade):                #definição do parametro\n",
    "\n",
    "    idade = int(idade)              #definir o valor da idade em numeros inteiros\n",
    "\n",
    "                                    #ctg1, ctg2, ctg3, ctg4, ctg5  \n",
    "\n",
    "\n",
    "    if idade >= 5 and idade <= 7:  \n",
    "        categorias = ('infantil a')\n",
    "        \n",
    "    elif idade >= 8 and idade <= 10:\n",
    "        categorias = ('infantil b')\n",
    "        \n",
    "    elif idade >= 11 and idade <= 13:\n",
    "       categorias = ('juvenil a')\n",
    "       \n",
    "    elif idade >= 14 and idade <= 17:\n",
    "        categorias = ('juvenil b')\n",
    "        \n",
    "    \n",
    "    elif idade >= 18:\n",
    "       categorias = ('adulto')\n",
    "        \n",
    "    return categorias\n",
    "\n",
    "\n",
    "str_idade = input('digite a idade do atleta:') \n",
    "print(f'a idade do nadador é:{str_idade} e sua categoria é:', categoria(str_idade))\n",
    "\n"
   ]
  },
  {
   "cell_type": "markdown",
   "metadata": {},
   "source": [
    "Exercício 09. Faça uma função que recebe um valor inteiro e verifica se o valor é positivo \n",
    "ou negativo. A função deve retornar um valor booleano.\n"
   ]
  },
  {
   "cell_type": "code",
   "execution_count": null,
   "metadata": {},
   "outputs": [
    {
     "name": "stdout",
     "output_type": "stream",
     "text": [
      "o valor digitado é:18:,e ele é um valor : positivo\n"
     ]
    }
   ],
   "source": [
    "def positivo_ou_negativo(valor):\n",
    "    valor = int(valor)\n",
    "\n",
    "    if valor >= 0:\n",
    "      resultado = ('positivo')\n",
    "    else:\n",
    "      resultado = ('negativo')\n",
    "\n",
    "    return resultado\n",
    "\n",
    "str_valor = input('digite um valor inteiro:')\n",
    "\n",
    "print(f'o valor digitado é:{str_valor}:,e ele é um valor :',positivo_ou_negativo(str_valor))"
   ]
  },
  {
   "cell_type": "markdown",
   "metadata": {},
   "source": [
    "Exercício 10. Faça uma função que recebe um valor inteiro e verifica se o valor é par ou\n",
    "ímpar. A função deve retornar um valor booleano."
   ]
  },
  {
   "cell_type": "code",
   "execution_count": null,
   "metadata": {},
   "outputs": [
    {
     "data": {
      "text/plain": [
       "'impar'"
      ]
     },
     "execution_count": 5,
     "metadata": {},
     "output_type": "execute_result"
    }
   ],
   "source": [
    "def par_ou_impar(numero):\n",
    "    numero = int(numero)\n",
    "\n",
    "    if numero%2 == 0: \n",
    "        resultado = True\n",
    "    else:\n",
    "        resultado = False\n",
    "    return resultado\n",
    "\n",
    "def conversion(result):\n",
    "\n",
    "    if result:\n",
    "        resultado = 'par'\n",
    "    else:\n",
    "        resultado = 'impar'\n",
    "    \n",
    "    return resultado\n",
    "\n",
    "valor = input('digite um numero:')\n",
    "\n",
    "conversion(par_ou_impar(valor))"
   ]
  },
  {
   "cell_type": "markdown",
   "metadata": {},
   "source": [
    "Exercício 11. Faça uma função que recebe a média final de um aluno por parãmetro e\n",
    "retorna o seu conceito, conforme a tabela abaixo:"
   ]
  },
  {
   "cell_type": "code",
   "execution_count": null,
   "metadata": {},
   "outputs": [
    {
     "name": "stdout",
     "output_type": "stream",
     "text": [
      "a média do aluno é:7 e seu paramentro é: B\n"
     ]
    }
   ],
   "source": [
    "def media(nota):\n",
    "    nota = float(nota)\n",
    "\n",
    "    if nota >= 0 and nota <= 4.9:\n",
    "        resultado = ('D')\n",
    "    \n",
    "    elif nota >= 5 and nota <= 6.9:\n",
    "        resultado = ('C')\n",
    "    elif nota >= 7 and nota <= 8.9:\n",
    "        resultado = ('B')\n",
    "    elif nota >= 9 and nota <= 10:\n",
    "        resultado = ('A')\n",
    "    \n",
    "    return resultado\n",
    "\n",
    "valor= input('digite a media do aluno:')\n",
    "\n",
    "print(f'a média do aluno é:{valor} e seu paramentro é:',media(valor)) "
   ]
  },
  {
   "cell_type": "markdown",
   "metadata": {},
   "source": [
    "Exercício 12. Faça uma função que recebe, por parâmetro, a altura (alt) e o sexo de uma\n",
    "pessoa e retorna o seu peso ideal. Para homens, calcular o peso ideal usando a fórmula\n",
    "peso ideal = 72.7 x alt - 58 e, para mulheres, peso ideal = 62.1 x alt - 44.7."
   ]
  },
  {
   "cell_type": "code",
   "execution_count": 58,
   "metadata": {},
   "outputs": [
    {
     "data": {
      "text/plain": [
       "62.111999999999995"
      ]
     },
     "execution_count": 58,
     "metadata": {},
     "output_type": "execute_result"
    }
   ],
   "source": [
    "def peso_ideal(altura, genero):\n",
    "    \n",
    "    altura= float(altura)\n",
    "    genero = genero.lower()\n",
    "\n",
    "    if genero == 'h':\n",
    "        altura = float(altura)\n",
    "\n",
    "        result = 72.7 * altura-58\n",
    "\n",
    "    elif genero == 'm':\n",
    "\n",
    "        result = 62.1 * altura - 44.7\n",
    "\n",
    "    else:\n",
    "        result= 'sexo invalido! Digite uma letra valida. [H] para homem e [M] para mulher:'\n",
    "    \n",
    "    return result\n",
    "\n",
    "alt= input('digite a altura da pessoa:')\n",
    "gen= input('digite o genero da pessoa:')\n",
    "peso_ideal(genero=gen, altura=alt)"
   ]
  },
  {
   "cell_type": "code",
   "execution_count": null,
   "metadata": {},
   "outputs": [],
   "source": []
  }
 ],
 "metadata": {
  "kernelspec": {
   "display_name": "base",
   "language": "python",
   "name": "python3"
  },
  "language_info": {
   "codemirror_mode": {
    "name": "ipython",
    "version": 3
   },
   "file_extension": ".py",
   "mimetype": "text/x-python",
   "name": "python",
   "nbconvert_exporter": "python",
   "pygments_lexer": "ipython3",
   "version": "3.10.9"
  },
  "orig_nbformat": 4
 },
 "nbformat": 4,
 "nbformat_minor": 2
}
