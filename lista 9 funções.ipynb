{
 "cells": [
  {
   "cell_type": "code",
   "execution_count": null,
   "metadata": {},
   "outputs": [],
   "source": []
  },
  {
   "cell_type": "markdown",
   "metadata": {},
   "source": [
    "Exercício 01. Faça uma função que recebe por parâmetro o raio de uma esfera e calcula o \n",
    "seu volume (v = 4/3.P .R3\n",
    ")."
   ]
  },
  {
   "cell_type": "code",
   "execution_count": 126,
   "metadata": {},
   "outputs": [
    {
     "data": {
      "text/plain": [
       "4188.790204786391"
      ]
     },
     "execution_count": 126,
     "metadata": {},
     "output_type": "execute_result"
    }
   ],
   "source": [
    "import numpy as np\n",
    "def volume_esfera(raio):\n",
    "    pi = np.pi \n",
    "    volume = 4/3 * pi * raio **3\n",
    "    return volume \n",
    "volume_esfera(10)\n"
   ]
  },
  {
   "cell_type": "markdown",
   "metadata": {},
   "source": [
    "Exercício 02. Escreva um procedimento que recebe as 3 notas de um aluno por parâmetro \n",
    "e uma letra. Se a letra for A o procedimento calcula a média aritmética das notas do aluno, \n",
    "se for P, a sua média ponderada (pesos: 5, 3 e 2) e se for H, a sua média harmônica. A \n",
    "média calculada também deve retornar por parâmetro."
   ]
  },
  {
   "cell_type": "code",
   "execution_count": 127,
   "metadata": {},
   "outputs": [
    {
     "name": "stdout",
     "output_type": "stream",
     "text": [
      "resultado da função média fina 7.058823529411764\n",
      "resultado da função média atitmedica 7.666666666666667\n",
      "resultado da função média ponderada 8.4\n",
      "resultado da função média harmonica 7.058823529411764\n"
     ]
    }
   ],
   "source": [
    "import numpy as np \n",
    "\n",
    "def media_aritmetica (num1, num2, num3):\n",
    "    soma = num1 + num2 + num3\n",
    "    media = soma / 3 \n",
    "\n",
    "    return media\n",
    "\n",
    "def media_ponderada (num1, num2, num3):\n",
    "    soma = num1*5 + num2*3 + num3*2\n",
    "    media = soma / 10 \n",
    "    return media\n",
    "\n",
    "def media_harmonica (num1, num2, num3):\n",
    "    qtdtermos = 3\n",
    "    soma = (1/num1 + 1/num2 + 1/num3)\n",
    "\n",
    "    media = qtdtermos / soma\n",
    "\n",
    "    return media \n",
    "\n",
    "def media_final(num1, num2, num3, tipo):\n",
    "\n",
    "    if tipo.upper() == 'A':\n",
    "        return media_aritmetica (num1, num2, num3)\n",
    "\n",
    "    elif tipo.upper() == 'P':\n",
    "        return media_ponderada (num1, num2, num3)\n",
    "    \n",
    "    elif tipo.upper() == \"H\":\n",
    "        return media_harmonica (num1, num2, num3)\n",
    "\n",
    "\n",
    "        \n",
    "\n",
    "media_final(10,8,5,'A')\n",
    "\n",
    "print('resultado da função média fina', media_final(10,8,5,'h'))\n",
    "\n",
    "\n",
    "print('resultado da função média atitmedica', media_aritmetica (10,8,5))\n",
    "\n",
    "print('resultado da função média ponderada', media_ponderada(10,8,5))\n",
    "\n",
    "print('resultado da função média harmonica', media_harmonica(10,8,5))\n",
    "\n",
    "\n",
    "\n",
    "\n",
    "\n"
   ]
  },
  {
   "cell_type": "markdown",
   "metadata": {},
   "source": []
  },
  {
   "cell_type": "code",
   "execution_count": 128,
   "metadata": {},
   "outputs": [
    {
     "ename": "ValueError",
     "evalue": "could not convert string to float: ''",
     "output_type": "error",
     "traceback": [
      "\u001b[1;31m---------------------------------------------------------------------------\u001b[0m",
      "\u001b[1;31mValueError\u001b[0m                                Traceback (most recent call last)",
      "Cell \u001b[1;32mIn[128], line 16\u001b[0m\n\u001b[0;32m     13\u001b[0m str_horas \u001b[39m=\u001b[39m \u001b[39minput\u001b[39m(\u001b[39m'\u001b[39m\u001b[39mDigite as horas trabalhadas: \u001b[39m\u001b[39m'\u001b[39m)\n\u001b[0;32m     14\u001b[0m str_valor_hora \u001b[39m=\u001b[39m \u001b[39minput\u001b[39m(\u001b[39m'\u001b[39m\u001b[39mDigite o valor por hora: \u001b[39m\u001b[39m'\u001b[39m)\n\u001b[1;32m---> 16\u001b[0m salario_total \u001b[39m=\u001b[39m calcular_pagamento(qtde_horas \u001b[39m=\u001b[39;49m str_horas, valor_hora \u001b[39m=\u001b[39;49m str_valor_hora)\n\u001b[0;32m     17\u001b[0m \u001b[39mprint\u001b[39m(\u001b[39m'\u001b[39m\u001b[39mO valor de seus rendimentos e R$ \u001b[39m\u001b[39m'\u001b[39m, salario_total)\n",
      "Cell \u001b[1;32mIn[128], line 3\u001b[0m, in \u001b[0;36mcalcular_pagamento\u001b[1;34m(qtde_horas, valor_hora)\u001b[0m\n\u001b[0;32m      1\u001b[0m \u001b[39mdef\u001b[39;00m \u001b[39mcalcular_pagamento\u001b[39m (qtde_horas, valor_hora):\n\u001b[0;32m      2\u001b[0m     horas \u001b[39m=\u001b[39m \u001b[39mfloat\u001b[39m(qtde_horas)\n\u001b[1;32m----> 3\u001b[0m     valorHora \u001b[39m=\u001b[39m \u001b[39mfloat\u001b[39;49m (valor_hora)\n\u001b[0;32m      5\u001b[0m     \u001b[39mif\u001b[39;00m horas \u001b[39m<\u001b[39m\u001b[39m=\u001b[39m \u001b[39m40\u001b[39m:\n\u001b[0;32m      6\u001b[0m         salario \u001b[39m=\u001b[39m horas \u001b[39m*\u001b[39m valorHora\n",
      "\u001b[1;31mValueError\u001b[0m: could not convert string to float: ''"
     ]
    }
   ],
   "source": [
    "def calcular_pagamento (qtde_horas, valor_hora):\n",
    "    horas = float(qtde_horas)\n",
    "    valorHora = float (valor_hora)\n",
    "\n",
    "    if horas <= 40:\n",
    "        salario = horas * valorHora\n",
    "    else:\n",
    "        h_execed = horas - 40\n",
    "        salario = 40 * valorHora + (h_execed * 1.5 * valorHora) \n",
    "    \n",
    "    return salario\n",
    "\n",
    "str_horas = input('Digite as horas trabalhadas: ')\n",
    "str_valor_hora = input('Digite o valor por hora: ')\n",
    "\n",
    "salario_total = calcular_pagamento(qtde_horas = str_horas, valor_hora = str_valor_hora)\n",
    "print('O valor de seus rendimentos e R$ ', salario_total)"
   ]
  },
  {
   "cell_type": "markdown",
   "metadata": {},
   "source": [
    "Exercício 08. Faça um procedimento que recebe a idade de um nadador por parâmetro e \n",
    "retorna, também por parâmetro, a categoria desse nadador de acordo com a tabela abaixo:"
   ]
  },
  {
   "cell_type": "code",
   "execution_count": 132,
   "metadata": {},
   "outputs": [
    {
     "name": "stdout",
     "output_type": "stream",
     "text": [
      "a idade do nadador é:14 e sua categoria é: juvenil b\n"
     ]
    }
   ],
   "source": [
    "def categoria(idade):                #definição do parametro\n",
    "\n",
    "    idade = int(idade)              #definir o valor da idade em numeros inteiros\n",
    "\n",
    "                                    #ctg1, ctg2, ctg3, ctg4, ctg5  \n",
    "\n",
    "\n",
    "    if idade >= 5 and idade <= 7:  \n",
    "        categorias = ('infantil a')\n",
    "        \n",
    "    elif idade >= 8 and idade <= 10:\n",
    "        categorias = ('infantil b')\n",
    "        \n",
    "    elif idade >= 11 and idade <= 13:\n",
    "       categorias = ('juvenil a')\n",
    "       \n",
    "    elif idade >= 14 and idade <= 17:\n",
    "        categorias = ('juvenil b')\n",
    "        \n",
    "    \n",
    "    elif idade >= 18:\n",
    "       categorias = ('adulto')\n",
    "        \n",
    "    return categorias\n",
    "\n",
    "\n",
    "str_idade = input('digite a idade do atleta:') \n",
    "print(f'a idade do nadador é:{str_idade} e sua categoria é:', categoria(str_idade))\n",
    "\n"
   ]
  },
  {
   "cell_type": "markdown",
   "metadata": {},
   "source": [
    "Exercício 09. Faça uma função que recebe um valor inteiro e verifica se o valor é positivo \n",
    "ou negativo. A função deve retornar um valor booleano.\n"
   ]
  },
  {
   "cell_type": "code",
   "execution_count": 137,
   "metadata": {},
   "outputs": [
    {
     "ename": "TypeError",
     "evalue": "valor() missing 1 required positional argument: 'negativo'",
     "output_type": "error",
     "traceback": [
      "\u001b[1;31m---------------------------------------------------------------------------\u001b[0m",
      "\u001b[1;31mTypeError\u001b[0m                                 Traceback (most recent call last)",
      "Cell \u001b[1;32mIn[137], line 10\u001b[0m\n\u001b[0;32m      8\u001b[0m     \u001b[39mreturn\u001b[39;00m valor\n\u001b[0;32m      9\u001b[0m str_valor \u001b[39m=\u001b[39m \u001b[39minput\u001b[39m(\u001b[39m'\u001b[39m\u001b[39mdigite um valor inteiro:\u001b[39m\u001b[39m'\u001b[39m)\n\u001b[1;32m---> 10\u001b[0m \u001b[39mprint\u001b[39m(\u001b[39mf\u001b[39m\u001b[39m'\u001b[39m\u001b[39mo valor digitado é:\u001b[39m\u001b[39m{\u001b[39;00mstr_valor\u001b[39m}\u001b[39;00m\u001b[39m, e ele é um valor :\u001b[39m\u001b[39m'\u001b[39m,valor(str_valor))\n",
      "\u001b[1;31mTypeError\u001b[0m: valor() missing 1 required positional argument: 'negativo'"
     ]
    }
   ],
   "source": [
    "def valor(positivo, negativo):\n",
    "    valor = int(valor)\n",
    "\n",
    "    if valor >= 0:\n",
    "       inteiro = ('positivo')\n",
    "    else:\n",
    "       inteiro = ('negativo')\n",
    "    return valor\n",
    "str_valor = input('digite um valor inteiro:')\n",
    "print(f'o valor digitado é:{str_valor}, e ele é um valor :',valor(str_valor))"
   ]
  }
 ],
 "metadata": {
  "kernelspec": {
   "display_name": "base",
   "language": "python",
   "name": "python3"
  },
  "language_info": {
   "codemirror_mode": {
    "name": "ipython",
    "version": 3
   },
   "file_extension": ".py",
   "mimetype": "text/x-python",
   "name": "python",
   "nbconvert_exporter": "python",
   "pygments_lexer": "ipython3",
   "version": "3.10.9"
  },
  "orig_nbformat": 4
 },
 "nbformat": 4,
 "nbformat_minor": 2
}
