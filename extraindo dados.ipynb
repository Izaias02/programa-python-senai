{
 "cells": [
  {
   "cell_type": "code",
   "execution_count": 1,
   "metadata": {},
   "outputs": [
    {
     "name": "stdout",
     "output_type": "stream",
     "text": [
      "Collecting openpyxl\n",
      "  Downloading openpyxl-3.1.2-py2.py3-none-any.whl (249 kB)\n",
      "     -------------------------------------- 250.0/250.0 kB 5.1 MB/s eta 0:00:00\n",
      "Collecting et-xmlfile\n",
      "  Downloading et_xmlfile-1.1.0-py3-none-any.whl (4.7 kB)\n",
      "Installing collected packages: et-xmlfile, openpyxl\n",
      "Successfully installed et-xmlfile-1.1.0 openpyxl-3.1.2\n"
     ]
    },
    {
     "name": "stderr",
     "output_type": "stream",
     "text": [
      "\n",
      "[notice] A new release of pip available: 22.3 -> 23.2.1\n",
      "[notice] To update, run: python.exe -m pip install --upgrade pip\n"
     ]
    }
   ],
   "source": [
    "!pip install openpyxl\n"
   ]
  },
  {
   "cell_type": "code",
   "execution_count": 1,
   "metadata": {},
   "outputs": [
    {
     "name": "stdout",
     "output_type": "stream",
     "text": [
      "escrevendo no nosso arquivo excel gastos.xlsx\n"
     ]
    }
   ],
   "source": [
    "\n",
    "\n",
    "\n",
    "import openpyxl as xl\n",
    "\n",
    "# -------------- abrir o arquivo TXT\n",
    "caminho = 'C:\\\\Users\\\\FIC\\\\Documents\\\\izaias python\\\\'\n",
    "\n",
    "f = open(caminho + 'gastos.txt','r',encoding= 'utf-8')\n",
    "\n",
    "arquivo = f.read()\n",
    "\n",
    "# convertendo o conteudo da variavel em uma lista\n",
    "\n",
    "lista_dados = arquivo.splitlines()\n",
    "\n",
    "# dividimos a lista em sublistas \n",
    "# o codigo repete 12 vezes, pegando cada elemento da lista anterior\n",
    "# e gerando sublistas na lista principal, isso vai permitir separar os dados \n",
    "# por linha no excel\n",
    "\n",
    "\n",
    "for i in range(0, len(lista_dados)):                # len = tras os elementos um por um na lista  \n",
    "    lista_dados[i] = lista_dados[i].split(',')      # split = separação dos elementos \n",
    "\n",
    "\n",
    "wb = xl.Workbook()            #criando nosso arquivo em excel\n",
    "ws = wb.active                      #criando uma nova planilha(aba)\n",
    "\n",
    "\n",
    "print('escrevendo no nosso arquivo excel gastos.xlsx')\n",
    "\n",
    "for linha in lista_dados:\n",
    "    ws.append(linha)\n",
    "\n",
    "\n",
    "wb.save(filename='gastos.xlsx')\n",
    "\n",
    "\n",
    "\n",
    "\n",
    "\n",
    "\n",
    "\n",
    "\n",
    "\n"
   ]
  }
 ],
 "metadata": {
  "kernelspec": {
   "display_name": "Python 3",
   "language": "python",
   "name": "python3"
  },
  "language_info": {
   "codemirror_mode": {
    "name": "ipython",
    "version": 3
   },
   "file_extension": ".py",
   "mimetype": "text/x-python",
   "name": "python",
   "nbconvert_exporter": "python",
   "pygments_lexer": "ipython3",
   "version": "3.10.9"
  },
  "orig_nbformat": 4
 },
 "nbformat": 4,
 "nbformat_minor": 2
}
